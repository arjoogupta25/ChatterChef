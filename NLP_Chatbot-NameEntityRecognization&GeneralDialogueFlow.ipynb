{
 "cells": [
  {
   "cell_type": "markdown",
   "id": "d124a4e7",
   "metadata": {},
   "source": [
    "$$Coursework- Natural Language Processing$$\n",
    "\n",
    "$$ Submitted By : Arjoo Gupta  (6657774) $$"
   ]
  },
  {
   "cell_type": "markdown",
   "id": "e628a29f",
   "metadata": {},
   "source": [
    "This notebook is intent to deliver Name Entity Recognization for Restaurant booking chatbot. Dataset For NER has been downloaded from kaggle in json format directly and processed further with actual datset from github according to the requiremnets.\n",
    "\n",
    "Link for dataset for having NER : https://www.kaggle.com/datasets/swapnilpote/restaurant-chatbot-dataset-intent-entity"
   ]
  },
  {
   "cell_type": "code",
   "execution_count": 82,
   "id": "7a84d0c5",
   "metadata": {
    "tags": []
   },
   "outputs": [],
   "source": [
    "#### Importing Required Libraries \n",
    "import json\n",
    "import csv\n",
    "import string\n",
    "import operator\n",
    "import random\n",
    "import re\n",
    "import warnings\n",
    "import bs4 as bs\n",
    "import urllib.request\n",
    "import nltk\n",
    "import re\n",
    "\n",
    "import opendatasets as od\n",
    "import pandas as pd\n",
    "import numpy as np\n",
    "import tensorflow as tf\n",
    "import matplotlib.pyplot as plt\n",
    "from prettytable import PrettyTable\n",
    "\n",
    "from tensorflow.keras.preprocessing.sequence import pad_sequences\n",
    "from tensorflow.keras.layers import Input, Embedding, LSTM, Dense, GlobalMaxPooling1D, Flatten\n",
    "from tensorflow.keras.models import Model\n",
    "from tensorflow.keras.preprocessing.text import Tokenizer\n",
    "\n",
    "from sklearn.preprocessing import LabelEncoder\n",
    "from sklearn.model_selection import train_test_split\n",
    "from sklearn.feature_extraction.text import TfidfVectorizer\n",
    "from sklearn.metrics.pairwise import cosine_similarity\n",
    "from sklearn.metrics import multilabel_confusion_matrix\n",
    "from sklearn.metrics import classification_report, confusion_matrix, ConfusionMatrixDisplay\n",
    "\n",
    "from nltk.corpus import wordnet\n",
    "\n",
    "from keras import layers\n",
    "from keras import optimizers\n",
    "from tensorflow.keras import optimizers\n",
    "from keras.models import Model\n",
    "from keras.models import Input"
   ]
  },
  {
   "cell_type": "code",
   "execution_count": 2,
   "id": "4460c168",
   "metadata": {},
   "outputs": [],
   "source": [
    "### Filtering out warnings\n",
    "warnings.filterwarnings('ignore')"
   ]
  },
  {
   "cell_type": "code",
   "execution_count": 3,
   "id": "22483610",
   "metadata": {},
   "outputs": [
    {
     "name": "stdout",
     "output_type": "stream",
     "text": [
      "Please provide your Kaggle credentials to download this dataset. Learn more: http://bit.ly/kaggle-creds\n",
      "Your Kaggle username:"
     ]
    },
    {
     "name": "stdin",
     "output_type": "stream",
     "text": [
      "  arjoogupta\n"
     ]
    },
    {
     "name": "stdout",
     "output_type": "stream",
     "text": [
      "Your Kaggle Key:"
     ]
    },
    {
     "name": "stdin",
     "output_type": "stream",
     "text": [
      "  ································\n"
     ]
    },
    {
     "name": "stdout",
     "output_type": "stream",
     "text": [
      "Downloading restaurant-chatbot-dataset-intent-entity.zip to ./restaurant-chatbot-dataset-intent-entity\n"
     ]
    },
    {
     "name": "stderr",
     "output_type": "stream",
     "text": [
      "100%|██████████| 119k/119k [00:00<00:00, 2.34MB/s]"
     ]
    },
    {
     "name": "stdout",
     "output_type": "stream",
     "text": [
      "\n"
     ]
    },
    {
     "name": "stderr",
     "output_type": "stream",
     "text": [
      "\n"
     ]
    }
   ],
   "source": [
    "## Getting dataset directly from kaggle\n",
    "od.download(\"https://www.kaggle.com/datasets/swapnilpote/restaurant-chatbot-dataset-intent-entity\", force=True)"
   ]
  },
  {
   "cell_type": "code",
   "execution_count": 91,
   "id": "f84587c8",
   "metadata": {},
   "outputs": [],
   "source": [
    "### loading dataset\n",
    "with open ('/home/studio-lab-user/restaurant-chatbot-dataset-intent-entity/restaurant_intent_entities.json', 'r') as f:\n",
    "    data_json = json.load(f)"
   ]
  },
  {
   "cell_type": "code",
   "execution_count": 92,
   "id": "7ab00168",
   "metadata": {},
   "outputs": [],
   "source": [
    "### converting dataset in required csv format and writing in .csv file\n",
    "def trim_json(data_json):\n",
    "    list1=[]\n",
    "    \n",
    "    for key,value in data_json.items():\n",
    "        for k,v in value.items():\n",
    "            list1 = v.copy()\n",
    "    return list1\n",
    "\n",
    "header = []\n",
    "data_1 = trim_json(data_json)\n",
    "list2=[]\n",
    "list3=[]\n",
    "j=0\n",
    "for i in data_1:\n",
    "    j=j+1\n",
    "    for c in i['entities']:\n",
    "        list2.append(j)\n",
    "        list2.append(i['text'])\n",
    "        list2.append(c['entity'])\n",
    "        list2.append(c['value'])\n",
    "        list3.append(list2)\n",
    "        list2=[]\n",
    "with open ('/home/studio-lab-user/restaurant-chatbot-dataset-intent-entity/restaurant_intent_entities.csv', 'w') as csv_f:\n",
    "    csvwriter=csv.writer(csv_f)\n",
    "    csvwriter.writerow(['sent#','text','entity','value'])\n",
    "    csvwriter.writerows(list3)\n",
    "csv_f.close()"
   ]
  },
  {
   "cell_type": "code",
   "execution_count": 93,
   "id": "d74fafd1",
   "metadata": {},
   "outputs": [
    {
     "data": {
      "text/html": [
       "<div>\n",
       "<style scoped>\n",
       "    .dataframe tbody tr th:only-of-type {\n",
       "        vertical-align: middle;\n",
       "    }\n",
       "\n",
       "    .dataframe tbody tr th {\n",
       "        vertical-align: top;\n",
       "    }\n",
       "\n",
       "    .dataframe thead th {\n",
       "        text-align: right;\n",
       "    }\n",
       "</style>\n",
       "<table border=\"1\" class=\"dataframe\">\n",
       "  <thead>\n",
       "    <tr style=\"text-align: right;\">\n",
       "      <th></th>\n",
       "      <th>sent#</th>\n",
       "      <th>text</th>\n",
       "      <th>entity</th>\n",
       "      <th>value</th>\n",
       "    </tr>\n",
       "  </thead>\n",
       "  <tbody>\n",
       "    <tr>\n",
       "      <th>0</th>\n",
       "      <td>1</td>\n",
       "      <td>book The Middle East restaurant in IN for noon</td>\n",
       "      <td>restaurant_name</td>\n",
       "      <td>The Middle East</td>\n",
       "    </tr>\n",
       "    <tr>\n",
       "      <th>1</th>\n",
       "      <td>1</td>\n",
       "      <td>book The Middle East restaurant in IN for noon</td>\n",
       "      <td>restaurant_type</td>\n",
       "      <td>restaurant</td>\n",
       "    </tr>\n",
       "    <tr>\n",
       "      <th>2</th>\n",
       "      <td>1</td>\n",
       "      <td>book The Middle East restaurant in IN for noon</td>\n",
       "      <td>state</td>\n",
       "      <td>IN</td>\n",
       "    </tr>\n",
       "    <tr>\n",
       "      <th>3</th>\n",
       "      <td>1</td>\n",
       "      <td>book The Middle East restaurant in IN for noon</td>\n",
       "      <td>timeRange</td>\n",
       "      <td>noon</td>\n",
       "    </tr>\n",
       "    <tr>\n",
       "      <th>4</th>\n",
       "      <td>2</td>\n",
       "      <td>Book a table at T-Rex distant from Halsey St.</td>\n",
       "      <td>restaurant_name</td>\n",
       "      <td>T-Rex</td>\n",
       "    </tr>\n",
       "  </tbody>\n",
       "</table>\n",
       "</div>"
      ],
      "text/plain": [
       "   sent#                                            text           entity  \\\n",
       "0      1  book The Middle East restaurant in IN for noon  restaurant_name   \n",
       "1      1  book The Middle East restaurant in IN for noon  restaurant_type   \n",
       "2      1  book The Middle East restaurant in IN for noon            state   \n",
       "3      1  book The Middle East restaurant in IN for noon        timeRange   \n",
       "4      2   Book a table at T-Rex distant from Halsey St.  restaurant_name   \n",
       "\n",
       "             value  \n",
       "0  The Middle East  \n",
       "1       restaurant  \n",
       "2               IN  \n",
       "3             noon  \n",
       "4            T-Rex  "
      ]
     },
     "execution_count": 93,
     "metadata": {},
     "output_type": "execute_result"
    }
   ],
   "source": [
    "### Loading csv formated dataset\n",
    "data = pd.read_csv('/home/studio-lab-user/restaurant-chatbot-dataset-intent-entity/restaurant_intent_entities.csv')\n",
    "data.head()"
   ]
  },
  {
   "cell_type": "markdown",
   "id": "2507a763",
   "metadata": {
    "tags": []
   },
   "source": [
    "As per above data, column 'sent#' represent the sentence number corresponding to each sentence from a conversation. 'Text' represents the sentence, 'Entity' represent tag type captured inside the sentence and 'value' represnts the actual word corresponding to the tag type."
   ]
  },
  {
   "cell_type": "markdown",
   "id": "b9d1a8e0",
   "metadata": {},
   "source": [
    "### 1. Analysing and Visualising Dataset"
   ]
  },
  {
   "cell_type": "code",
   "execution_count": 94,
   "id": "3959b6f0",
   "metadata": {},
   "outputs": [
    {
     "data": {
      "text/plain": [
       "Index(['sent#', 'text', 'entity', 'value'], dtype='object')"
      ]
     },
     "execution_count": 94,
     "metadata": {},
     "output_type": "execute_result"
    }
   ],
   "source": [
    "##Columns of data\n",
    "data.columns"
   ]
  },
  {
   "cell_type": "code",
   "execution_count": 95,
   "id": "360f0307",
   "metadata": {},
   "outputs": [
    {
     "data": {
      "text/plain": [
       "(6418, 4)"
      ]
     },
     "execution_count": 95,
     "metadata": {},
     "output_type": "execute_result"
    }
   ],
   "source": [
    "##Shape of data\n",
    "data.shape"
   ]
  },
  {
   "cell_type": "code",
   "execution_count": 96,
   "id": "fcdf7b23",
   "metadata": {},
   "outputs": [
    {
     "name": "stdout",
     "output_type": "stream",
     "text": [
      "<class 'pandas.core.frame.DataFrame'>\n",
      "RangeIndex: 6418 entries, 0 to 6417\n",
      "Data columns (total 4 columns):\n",
      " #   Column  Non-Null Count  Dtype \n",
      "---  ------  --------------  ----- \n",
      " 0   sent#   6418 non-null   int64 \n",
      " 1   text    6418 non-null   object\n",
      " 2   entity  6418 non-null   object\n",
      " 3   value   6418 non-null   object\n",
      "dtypes: int64(1), object(3)\n",
      "memory usage: 200.7+ KB\n"
     ]
    }
   ],
   "source": [
    "###data information\n",
    "data.info()"
   ]
  },
  {
   "cell_type": "code",
   "execution_count": 97,
   "id": "c57ebac5",
   "metadata": {},
   "outputs": [
    {
     "data": {
      "text/plain": [
       "sent#     0\n",
       "text      0\n",
       "entity    0\n",
       "value     0\n",
       "dtype: int64"
      ]
     },
     "execution_count": 97,
     "metadata": {},
     "output_type": "execute_result"
    }
   ],
   "source": [
    "#####checking null values in formated dataset\n",
    "np.sum(data.isnull())"
   ]
  },
  {
   "cell_type": "code",
   "execution_count": 98,
   "id": "2352af7c",
   "metadata": {},
   "outputs": [
    {
     "name": "stdout",
     "output_type": "stream",
     "text": [
      "No. of sentences in the data: 1,973\n",
      "No. of unique words in the data: 2,316\n",
      "No. of entities in the data: 14\n"
     ]
    }
   ],
   "source": [
    "print(\"No. of sentences in the data: {:,}\".format(data[\"sent#\"].nunique()))\n",
    "print(\"No. of unique words in the data: {:,}\".format(data[\"value\"].nunique()))\n",
    "print(\"No. of entities in the data: {:,}\".format(data[\"entity\"].nunique()))"
   ]
  },
  {
   "cell_type": "code",
   "execution_count": 99,
   "id": "b038b91f",
   "metadata": {},
   "outputs": [
    {
     "data": {
      "text/plain": [
       "restaurant_type           1364\n",
       "party_size_number         1025\n",
       "timeRange                  674\n",
       "state                      519\n",
       "city                       513\n",
       "country                    356\n",
       "restaurant_name            339\n",
       "spatial_relation           324\n",
       "party_size_description     317\n",
       "served_dish                270\n",
       "cuisine                    211\n",
       "sort                       203\n",
       "facility                   160\n",
       "poi                        143\n",
       "Name: entity, dtype: int64"
      ]
     },
     "execution_count": 99,
     "metadata": {},
     "output_type": "execute_result"
    }
   ],
   "source": [
    "###entity counts corresponding to words\n",
    "data['entity'].value_counts()"
   ]
  },
  {
   "cell_type": "code",
   "execution_count": 100,
   "id": "d82ac051",
   "metadata": {},
   "outputs": [
    {
     "data": {
      "text/plain": [
       "<AxesSubplot:>"
      ]
     },
     "execution_count": 100,
     "metadata": {},
     "output_type": "execute_result"
    },
    {
     "data": {
      "image/png": "[encoded data removed]",
      "text/plain": [
       "<Figure size 720x360 with 1 Axes>"
      ]
     },
     "metadata": {
      "needs_background": "light"
     },
     "output_type": "display_data"
    }
   ],
   "source": [
    "### Entity representation wrt the count \n",
    "data[\"entity\"].value_counts().plot(kind=\"bar\", figsize=(10,5), x='entity')"
   ]
  },
  {
   "cell_type": "code",
   "execution_count": 101,
   "id": "3180d0a2",
   "metadata": {},
   "outputs": [
    {
     "data": {
      "text/plain": [
       "<AxesSubplot:ylabel='entity'>"
      ]
     },
     "execution_count": 101,
     "metadata": {},
     "output_type": "execute_result"
    },
    {
     "data": {
      "image/png": "[encoded data removed]",
      "text/plain": [
       "<Figure size 504x504 with 1 Axes>"
      ]
     },
     "metadata": {},
     "output_type": "display_data"
    }
   ],
   "source": [
    "## Entity distribution pie chart for dataset\n",
    "data[\"entity\"].value_counts().plot(kind = 'pie', autopct='%1.1f%%', figsize=(7, 7))"
   ]
  },
  {
   "cell_type": "markdown",
   "id": "61d22e2a",
   "metadata": {
    "tags": []
   },
   "source": [
    "\"restaurant_type\" entity contains 21.3% part of dataset while entity like \"facility\" or \"poi\" do have distribution as low as 2% only.This might result in biased prediction after training feeding our data to models."
   ]
  },
  {
   "cell_type": "code",
   "execution_count": 102,
   "id": "d684695a",
   "metadata": {},
   "outputs": [
    {
     "data": {
      "text/plain": [
       "array([[<AxesSubplot:title={'center':'Value distribution in dataset'}>]],\n",
       "      dtype=object)"
      ]
     },
     "execution_count": 102,
     "metadata": {},
     "output_type": "execute_result"
    },
    {
     "data": {
      "image/png": "[encoded data removed]",
      "text/plain": [
       "<Figure size 576x432 with 1 Axes>"
      ]
     },
     "metadata": {
      "needs_background": "light"
     },
     "output_type": "display_data"
    }
   ],
   "source": [
    "### Distribution plot of words as per distribution\n",
    "count = data.groupby(\"sent#\")[\"value\"].agg([\"count\"])\n",
    "count = count.rename(columns={\"count\": \"Value distribution in dataset\"})\n",
    "count.hist(bins=8, figsize=(8,6))"
   ]
  },
  {
   "cell_type": "code",
   "execution_count": 103,
   "id": "4cd5d783",
   "metadata": {},
   "outputs": [
    {
     "name": "stdout",
     "output_type": "stream",
     "text": [
      "Longest sentence in dataset contains 8 words.\n",
      "sent# corresponding to the longest sentence is 1198.\n"
     ]
    }
   ],
   "source": [
    "### Longest sentence in dataset and sent# for that sentence\n",
    "long_sent = count.max()[0]\n",
    "long_sent_id = count[count[\"Value distribution in dataset\"]==long_sent].index[0]\n",
    "print(\"Longest sentence in dataset contains {} words.\".format(long_sent))\n",
    "print(\"sent# corresponding to the longest sentence is {}.\".format(long_sent_id))"
   ]
  },
  {
   "cell_type": "markdown",
   "id": "8d628b30",
   "metadata": {},
   "source": [
    "## Name Entity Recognition(NER)"
   ]
  },
  {
   "cell_type": "markdown",
   "id": "800ed933",
   "metadata": {},
   "source": [
    "#### Choice of Modeling/ Algorithms:"
   ]
  },
  {
   "cell_type": "markdown",
   "id": "5e37eef2",
   "metadata": {},
   "source": [
    "Here I am comparing two different types of LSTM (Long Short Term Memory networks) model. LSTM is a type of Recurrent Neural Network (RNN) only designed to handle the Long term dependencies. I am going to compare the performance of LSTM and BiLSTM on our entity recognition. While LSTM only preserves information from the past, BiLSTM can run your inputs from both sides, i.e. from past to future and future to past as-well.\n",
    "\n",
    "As per the defination, I am predicting that BiLSTM will provide better results as compared to LSTM, because it will be able to understand entity context better for classification due to having information from both past and future. Also, we have implemented time distributed wrapper layer with Bi-LSTM which simplifies network and provides 2 major things as described below:\n",
    "\n",
    "1. It frames problem as it is defined and learn accordingly, which means that it maps one input to one output.\n",
    "2. It simplifies the network such that one step will be processed at a time, which also requries less weights compared to lstm without time-distributed layer.\n",
    " \n",
    "Below I have implemented both models and compared the results for better view:"
   ]
  },
  {
   "cell_type": "markdown",
   "id": "8ac18252",
   "metadata": {},
   "source": [
    "### 1. BiLSTM (Bidirectional Long Short Term Moemory) Model with Time Distributed Outer Layer:"
   ]
  },
  {
   "cell_type": "markdown",
   "id": "f5422336",
   "metadata": {},
   "source": [
    "#### 1.1. Data pre-processing:"
   ]
  },
  {
   "cell_type": "code",
   "execution_count": 104,
   "id": "fad7e036",
   "metadata": {},
   "outputs": [],
   "source": [
    "###converting data values and entities into list\n",
    "list_values = list(set(data[\"value\"].values)) \n",
    "list_entities= list(set(data[\"entity\"].values))"
   ]
  },
  {
   "cell_type": "code",
   "execution_count": 105,
   "id": "ae6ec1a3",
   "metadata": {},
   "outputs": [],
   "source": [
    "### removing punctuations from data values\n",
    "list_values = [s.translate(string.punctuation) for s in list_values]\n",
    "list_entities = [s.translate( string.punctuation) for s in list_entities]\n",
    "\n",
    "### Ref: https://stackoverflow.com/questions/4371231/removing-punctuation-from-python-list-items"
   ]
  },
  {
   "cell_type": "code",
   "execution_count": 106,
   "id": "1b87d9ca",
   "metadata": {},
   "outputs": [
    {
     "name": "stdout",
     "output_type": "stream",
     "text": [
      "number of sklearn stopwords: 318\n",
      "number of nltk stopwords: 179\n",
      "number of merged stopwords: 497\n",
      "['i', 'me', 'my', 'myself', 'we', 'our', 'ours', 'ourselves', 'you', \"you're\"]\n"
     ]
    }
   ],
   "source": [
    "### importing stop words from sklearn\n",
    "from sklearn.feature_extraction.text import ENGLISH_STOP_WORDS as sklearn_stop_words\n",
    "\n",
    "print(f\"number of sklearn stopwords: {len(sklearn_stop_words)}\")\n",
    "\n",
    "#### importing stop words from nltk\n",
    "import nltk\n",
    "stop_words = nltk.corpus.stopwords.words('english')\n",
    "print(f\"number of nltk stopwords: {len(stop_words)}\")\n",
    "\n",
    "## merging nltk stopswords with sklearn stopwards to have a bigger list of stopwords\n",
    "for elem in sklearn_stop_words:\n",
    "    stop_words.append(elem)\n",
    "print(f\"number of merged stopwords: {len(stop_words)}\")\n",
    "print(stop_words[:10])"
   ]
  },
  {
   "cell_type": "code",
   "execution_count": 107,
   "id": "5635ca40",
   "metadata": {},
   "outputs": [
    {
     "name": "stdout",
     "output_type": "stream",
     "text": [
      "Data values before removing stopwords: 2316\n",
      "Data values after removing stopwords: 2301\n",
      "Data entities before removing stopwords: 14\n",
      "Data entities after removing stopwords: 14\n"
     ]
    }
   ],
   "source": [
    "##removing stop-words\n",
    "data_values = [x for x in list_values if x not in stop_words]\n",
    "print(f\"Data values before removing stopwords: {len(list_values)}\")\n",
    "print(f\"Data values after removing stopwords: {len(data_values)}\")\n",
    "data_entities = [x for x in list_entities if x not in stop_words]\n",
    "print(f\"Data entities before removing stopwords: {len(list_entities)}\")\n",
    "print(f\"Data entities after removing stopwords: {len(data_entities)}\")"
   ]
  },
  {
   "cell_type": "markdown",
   "id": "8b49e4ad",
   "metadata": {},
   "source": [
    "#### 1.2. Text Featurisation/Transformation into numerical vectors"
   ]
  },
  {
   "cell_type": "markdown",
   "id": "e63d60ae",
   "metadata": {},
   "source": [
    "##### Integer Encoding:"
   ]
  },
  {
   "cell_type": "code",
   "execution_count": 108,
   "id": "d08df123",
   "metadata": {},
   "outputs": [],
   "source": [
    "### Encoding entities and corresponding values using WordEmbedding\n",
    "value2index = {value: idx for idx, value in enumerate(list_values)}\n",
    "index2value = {idx: value for value, idx in value2index.items()}"
   ]
  },
  {
   "cell_type": "code",
   "execution_count": 109,
   "id": "4be71d2b",
   "metadata": {},
   "outputs": [
    {
     "name": "stdout",
     "output_type": "stream",
     "text": [
      "Lexington Av-53rd St 0\n",
      "Coney Island Hot Dog Stand 1\n",
      "Maid-Rite Sandwich Shop 2\n",
      "Climax Springs 3\n",
      "Boon Brick Store 4\n",
      "9 AM 5\n",
      "fisn'n chips 6\n",
      "tavern 7\n",
      "two 8\n",
      "Lumpkin 9\n"
     ]
    }
   ],
   "source": [
    "##looking for first 10 encoded values from dictionary\n",
    "for a,b in sorted(value2index.items(), key=operator.itemgetter(1))[:10]:\n",
    "    print(a,b)"
   ]
  },
  {
   "cell_type": "code",
   "execution_count": 110,
   "id": "e9ba7e57",
   "metadata": {},
   "outputs": [
    {
     "name": "stdout",
     "output_type": "stream",
     "text": [
      "The index of the value Japan is 2289.\n",
      "The value with index 2289 is Japan.\n"
     ]
    }
   ],
   "source": [
    "### testing the logic for word encoding mapping\n",
    "test = \"Japan\"\n",
    "\n",
    "test_id = value2index[test]\n",
    "test_value = index2value[test_id]\n",
    "\n",
    "print(\"The index of the value {} is {}.\".format(test, test_id))\n",
    "print(\"The value with index {} is {}.\".format(test_id, test_value))"
   ]
  },
  {
   "cell_type": "code",
   "execution_count": 111,
   "id": "4f33f68b",
   "metadata": {},
   "outputs": [],
   "source": [
    "### Now, encoding similiarly for entity aswell\n",
    "entity2index = {entity: idx for idx, entity in enumerate(list_entities)}\n",
    "index2entity = {idx: word for word, idx in entity2index.items()}"
   ]
  },
  {
   "cell_type": "code",
   "execution_count": 112,
   "id": "05ad58df",
   "metadata": {},
   "outputs": [
    {
     "name": "stdout",
     "output_type": "stream",
     "text": [
      "The index of the entity restaurant_type is 0.\n",
      "The entity with index 0 is restaurant_type.\n"
     ]
    }
   ],
   "source": [
    "### testing the logic for entity encoding mapping\n",
    "test = \"restaurant_type\"\n",
    "\n",
    "test_id = entity2index[test]\n",
    "test_value = index2entity[test_id]\n",
    "\n",
    "print(\"The index of the entity {} is {}.\".format(test, test_id))\n",
    "print(\"The entity with index {} is {}.\".format(test_id, test_value))"
   ]
  },
  {
   "cell_type": "raw",
   "id": "ca6e58c4",
   "metadata": {},
   "source": [
    "So, logic for encoding works perfectly for both entity and corresponding words."
   ]
  },
  {
   "cell_type": "raw",
   "id": "c0d65f3a",
   "metadata": {},
   "source": [
    "Now, we will iterate over each entity and corresponding values by creating a custom function and storing it into a tuple. Then,using this function will create a corpus in format as ('value','entity') mapping."
   ]
  },
  {
   "cell_type": "code",
   "execution_count": 113,
   "id": "15c09945",
   "metadata": {},
   "outputs": [
    {
     "name": "stdout",
     "output_type": "stream",
     "text": [
      "[('The Middle East', 'restaurant_name'), ('restaurant', 'restaurant_type'), ('IN', 'state'), ('noon', 'timeRange')]\n"
     ]
    }
   ],
   "source": [
    "###creating corpus of words and entities\n",
    "def corpus(data):\n",
    "    z = zip(data[\"value\"].values.tolist(),\n",
    "            data[\"entity\"].values.tolist())\n",
    "    return [(value,entity) for value,entity in z]\n",
    "\n",
    "s = data.groupby(\"sent#\").apply(corpus).tolist()\n",
    "\n",
    "print(s[0])"
   ]
  },
  {
   "cell_type": "code",
   "execution_count": 114,
   "id": "9d71e0b7",
   "metadata": {},
   "outputs": [
    {
     "name": "stdout",
     "output_type": "stream",
     "text": [
      "X[2]: ['taverna', 'chili con carne', '10']\n",
      "Y[2]: ['restaurant_type', 'served_dish', 'party_size_number']\n"
     ]
    }
   ],
   "source": [
    "### Extracting list of values and entities from above corups\n",
    "X = [[x[0] for x in m] for m in s]\n",
    "Y = [[y[1] for y in m] for m in s]\n",
    "print(\"X[2]:\", X[2])\n",
    "print(\"Y[2]:\", Y[2])"
   ]
  },
  {
   "cell_type": "raw",
   "id": "7cdc1b41",
   "metadata": {},
   "source": [
    "But, we require the same in index format to train model, so converting the same in index format."
   ]
  },
  {
   "cell_type": "code",
   "execution_count": 115,
   "id": "922bcfdb",
   "metadata": {},
   "outputs": [
    {
     "name": "stdout",
     "output_type": "stream",
     "text": [
      "X[3]: [449, 2289, 2290, 2262]\n",
      "Y[3]: [12, 1, 8, 2]\n"
     ]
    }
   ],
   "source": [
    "##indexing the list for value and entities\n",
    "X = [[value2index[x] for x in m] for m in X]\n",
    "Y = [[entity2index[x] for x in m] for m in Y]\n",
    "print(\"X[3]:\", X[3])\n",
    "print(\"Y[3]:\", Y[3])"
   ]
  },
  {
   "cell_type": "markdown",
   "id": "3765e677",
   "metadata": {},
   "source": [
    "#### One-hot Encoding:"
   ]
  },
  {
   "cell_type": "markdown",
   "id": "cb5d0643",
   "metadata": {},
   "source": [
    "We are implementing one-hot encoding for our entity class to convert each column in binary format from integer because BiLSTM  treats higher number more important than lower numbers. Since, our entities do not have any relationship with each other and are independent, then this bias based on integer values will also generate bias results. Hence, converting into one-hot encoding format."
   ]
  },
  {
   "cell_type": "code",
   "execution_count": 116,
   "id": "e5620537",
   "metadata": {},
   "outputs": [
    {
     "name": "stdout",
     "output_type": "stream",
     "text": [
      "Count: 14\n",
      "X[0]: [1810, 428, 534, 811]\n",
      "Y[0]: [[0. 0. 0. 0. 0. 0. 0. 0. 1. 0. 0. 0. 0. 0.]\n",
      " [1. 0. 0. 0. 0. 0. 0. 0. 0. 0. 0. 0. 0. 0.]\n",
      " [0. 0. 0. 0. 0. 0. 0. 0. 0. 0. 0. 0. 0. 1.]\n",
      " [0. 0. 1. 0. 0. 0. 0. 0. 0. 0. 0. 0. 0. 0.]]\n"
     ]
    }
   ],
   "source": [
    "count = len(entity2index)\n",
    "Y = [ np.eye(count)[s] for s in Y]\n",
    "print(\"Count:\",count)\n",
    "print(\"X[0]:\", X[0])\n",
    "print(\"Y[0]:\", Y[0])"
   ]
  },
  {
   "cell_type": "markdown",
   "id": "008baf40",
   "metadata": {},
   "source": [
    "We are going to implement LSTM model for which inputs needs to be in similar size and shape and hence we are applying padding to our labels."
   ]
  },
  {
   "cell_type": "code",
   "execution_count": 117,
   "id": "8777156d",
   "metadata": {},
   "outputs": [],
   "source": [
    "### applying padding\n",
    "X = pad_sequences(X)\n",
    "Y = pad_sequences(Y)"
   ]
  },
  {
   "cell_type": "code",
   "execution_count": 118,
   "id": "7ec99e39",
   "metadata": {},
   "outputs": [],
   "source": [
    "## for feeding to model simple, converting dataset into numpy array \n",
    "X = np.array(X)\n",
    "Y = np.array(Y)"
   ]
  },
  {
   "cell_type": "markdown",
   "id": "49fac5ab",
   "metadata": {},
   "source": [
    "#### 1.3. Dataset Splitting"
   ]
  },
  {
   "cell_type": "markdown",
   "id": "772f745e",
   "metadata": {},
   "source": [
    "Since, the dataset do have only 1973 sentences and 2316 unique words I needed to divide the dataset in a way with sufficient proportion to train our model corresponding to each entity. Hence, going to experiment with 70%-30% proportion and 90%-10% proportion to compare the results from training models. Also for validating the model, I will further going to divide training dataset in 80%-20% for 70% proportion and 90%-10% for 90% proportion."
   ]
  },
  {
   "cell_type": "code",
   "execution_count": 119,
   "id": "94966980",
   "metadata": {},
   "outputs": [
    {
     "name": "stdout",
     "output_type": "stream",
     "text": [
      "No. of sentence in training data: 1381\n",
      "No. of sentence in the test data : 592\n"
     ]
    }
   ],
   "source": [
    "###Spliting dataset in proportion of 70%/30% for train/test\n",
    "X_train, X_test, y_train, y_test = train_test_split(X,Y, test_size=0.3, random_state=1234)\n",
    "\n",
    "print(\"No. of sentence in training data: {}\".format(len(X_train)))\n",
    "print(\"No. of sentence in the test data : {}\".format(len(X_test)))"
   ]
  },
  {
   "cell_type": "markdown",
   "id": "8e157f11",
   "metadata": {
    "tags": []
   },
   "source": [
    "#### 1.4. Model Implementation with 70%-30% | train/test ratio and 90%-10% | train/validation ratio"
   ]
  },
  {
   "cell_type": "code",
   "execution_count": 120,
   "id": "7385cef2",
   "metadata": {},
   "outputs": [],
   "source": [
    "tf.random.set_seed(0)\n",
    "wc = len(value2index)\n",
    "dense = 50\n",
    "units = 50\n",
    "do_lstm = 0.1\n",
    "units_d = 14"
   ]
  },
  {
   "cell_type": "code",
   "execution_count": 121,
   "id": "13d3a889",
   "metadata": {},
   "outputs": [
    {
     "name": "stdout",
     "output_type": "stream",
     "text": [
      "Model: \"model_5\"\n",
      "_________________________________________________________________\n",
      " Layer (type)                Output Shape              Param #   \n",
      "=================================================================\n",
      " input_6 (InputLayer)        [(None, 8)]               0         \n",
      "                                                                 \n",
      " embedding_5 (Embedding)     (None, 8, 50)             115800    \n",
      "                                                                 \n",
      " bidirectional_3 (Bidirectio  (None, 8, 100)           40400     \n",
      " nal)                                                            \n",
      "                                                                 \n",
      " time_distributed_3 (TimeDis  (None, 8, 14)            1414      \n",
      " tributed)                                                       \n",
      "                                                                 \n",
      "=================================================================\n",
      "Total params: 157,614\n",
      "Trainable params: 157,614\n",
      "Non-trainable params: 0\n",
      "_________________________________________________________________\n"
     ]
    }
   ],
   "source": [
    "ip_layer = layers.Input(shape=(long_sent,))\n",
    "\n",
    "model = layers.Embedding(wc, dense, embeddings_initializer=\"uniform\", input_length=long_sent)(ip_layer)\n",
    "\n",
    "model = layers.Bidirectional(layers.LSTM(units, recurrent_dropout=do_lstm, return_sequences=True))(model)\n",
    "\n",
    "model = layers.TimeDistributed(layers.Dense(units_d, activation=\"relu\"))(model)\n",
    "\n",
    "final_model = Model(ip_layer, model)\n",
    "\n",
    "opt = optimizers.Adam(learning_rate=0.001)\n",
    "\n",
    "final_model.compile(optimizer=opt, loss='mean_squared_error', metrics=['accuracy'])\n",
    "\n",
    "final_model.summary()"
   ]
  },
  {
   "cell_type": "code",
   "execution_count": 122,
   "id": "cc493ea0",
   "metadata": {},
   "outputs": [
    {
     "name": "stdout",
     "output_type": "stream",
     "text": [
      "Epoch 1/30\n",
      "25/25 - 6s - loss: 0.0273 - accuracy: 0.4848 - val_loss: 0.0251 - val_accuracy: 0.4281 - 6s/epoch - 221ms/step\n",
      "Epoch 2/30\n",
      "25/25 - 0s - loss: 0.0246 - accuracy: 0.4956 - val_loss: 0.0226 - val_accuracy: 0.6052 - 382ms/epoch - 15ms/step\n",
      "Epoch 3/30\n",
      "25/25 - 0s - loss: 0.0209 - accuracy: 0.5407 - val_loss: 0.0181 - val_accuracy: 0.5980 - 374ms/epoch - 15ms/step\n",
      "Epoch 4/30\n",
      "25/25 - 0s - loss: 0.0163 - accuracy: 0.5145 - val_loss: 0.0142 - val_accuracy: 0.6511 - 374ms/epoch - 15ms/step\n",
      "Epoch 5/30\n",
      "25/25 - 0s - loss: 0.0130 - accuracy: 0.7197 - val_loss: 0.0120 - val_accuracy: 0.7041 - 375ms/epoch - 15ms/step\n",
      "Epoch 6/30\n",
      "25/25 - 0s - loss: 0.0103 - accuracy: 0.7800 - val_loss: 0.0103 - val_accuracy: 0.7878 - 367ms/epoch - 15ms/step\n",
      "Epoch 7/30\n",
      "25/25 - 0s - loss: 0.0077 - accuracy: 0.8589 - val_loss: 0.0092 - val_accuracy: 0.7968 - 370ms/epoch - 15ms/step\n",
      "Epoch 8/30\n",
      "25/25 - 0s - loss: 0.0054 - accuracy: 0.9131 - val_loss: 0.0086 - val_accuracy: 0.8741 - 375ms/epoch - 15ms/step\n",
      "Epoch 9/30\n",
      "25/25 - 0s - loss: 0.0034 - accuracy: 0.9559 - val_loss: 0.0081 - val_accuracy: 0.8903 - 371ms/epoch - 15ms/step\n",
      "Epoch 10/30\n",
      "25/25 - 0s - loss: 0.0019 - accuracy: 0.9696 - val_loss: 0.0080 - val_accuracy: 0.9101 - 374ms/epoch - 15ms/step\n",
      "Epoch 11/30\n",
      "25/25 - 0s - loss: 9.7200e-04 - accuracy: 0.9914 - val_loss: 0.0078 - val_accuracy: 0.9083 - 363ms/epoch - 15ms/step\n",
      "Epoch 12/30\n",
      "25/25 - 0s - loss: 5.8750e-04 - accuracy: 0.9912 - val_loss: 0.0079 - val_accuracy: 0.9065 - 383ms/epoch - 15ms/step\n",
      "Epoch 13/30\n",
      "25/25 - 0s - loss: 4.0431e-04 - accuracy: 0.9920 - val_loss: 0.0079 - val_accuracy: 0.9074 - 373ms/epoch - 15ms/step\n",
      "Epoch 14/30\n",
      "25/25 - 0s - loss: 3.3204e-04 - accuracy: 0.9955 - val_loss: 0.0079 - val_accuracy: 0.9065 - 368ms/epoch - 15ms/step\n",
      "Epoch 15/30\n",
      "25/25 - 0s - loss: 2.8074e-04 - accuracy: 0.9960 - val_loss: 0.0079 - val_accuracy: 0.9047 - 370ms/epoch - 15ms/step\n",
      "Epoch 16/30\n",
      "25/25 - 0s - loss: 2.5554e-04 - accuracy: 0.9942 - val_loss: 0.0080 - val_accuracy: 0.9047 - 394ms/epoch - 16ms/step\n",
      "Epoch 17/30\n",
      "25/25 - 0s - loss: 2.3471e-04 - accuracy: 0.9954 - val_loss: 0.0079 - val_accuracy: 0.9083 - 385ms/epoch - 15ms/step\n",
      "Epoch 18/30\n",
      "25/25 - 0s - loss: 2.2238e-04 - accuracy: 0.9935 - val_loss: 0.0080 - val_accuracy: 0.9038 - 380ms/epoch - 15ms/step\n",
      "Epoch 19/30\n",
      "25/25 - 0s - loss: 2.1429e-04 - accuracy: 0.9937 - val_loss: 0.0080 - val_accuracy: 0.9056 - 372ms/epoch - 15ms/step\n",
      "Epoch 20/30\n",
      "25/25 - 0s - loss: 2.0049e-04 - accuracy: 0.9944 - val_loss: 0.0079 - val_accuracy: 0.9056 - 362ms/epoch - 14ms/step\n",
      "Epoch 21/30\n",
      "25/25 - 0s - loss: 2.0103e-04 - accuracy: 0.9954 - val_loss: 0.0080 - val_accuracy: 0.9065 - 364ms/epoch - 15ms/step\n",
      "Epoch 22/30\n",
      "25/25 - 0s - loss: 1.9743e-04 - accuracy: 0.9950 - val_loss: 0.0080 - val_accuracy: 0.9074 - 360ms/epoch - 14ms/step\n",
      "Epoch 23/30\n",
      "25/25 - 0s - loss: 1.8891e-04 - accuracy: 0.9927 - val_loss: 0.0080 - val_accuracy: 0.9056 - 368ms/epoch - 15ms/step\n",
      "Epoch 24/30\n",
      "25/25 - 0s - loss: 1.8617e-04 - accuracy: 0.9949 - val_loss: 0.0080 - val_accuracy: 0.9074 - 365ms/epoch - 15ms/step\n",
      "Epoch 25/30\n",
      "25/25 - 0s - loss: 1.7799e-04 - accuracy: 0.9961 - val_loss: 0.0080 - val_accuracy: 0.9074 - 363ms/epoch - 15ms/step\n",
      "Epoch 26/30\n",
      "25/25 - 0s - loss: 1.7439e-04 - accuracy: 0.9941 - val_loss: 0.0080 - val_accuracy: 0.9065 - 361ms/epoch - 14ms/step\n",
      "Epoch 27/30\n",
      "25/25 - 0s - loss: 1.7234e-04 - accuracy: 0.9948 - val_loss: 0.0080 - val_accuracy: 0.9065 - 368ms/epoch - 15ms/step\n",
      "Epoch 28/30\n",
      "25/25 - 0s - loss: 1.6490e-04 - accuracy: 0.9939 - val_loss: 0.0080 - val_accuracy: 0.9092 - 367ms/epoch - 15ms/step\n",
      "Epoch 29/30\n",
      "25/25 - 0s - loss: 1.6222e-04 - accuracy: 0.9946 - val_loss: 0.0080 - val_accuracy: 0.9020 - 372ms/epoch - 15ms/step\n",
      "Epoch 30/30\n",
      "25/25 - 0s - loss: 1.5435e-04 - accuracy: 0.9950 - val_loss: 0.0080 - val_accuracy: 0.9065 - 368ms/epoch - 15ms/step\n"
     ]
    }
   ],
   "source": [
    "history = final_model.fit(X_train, y_train, batch_size=50, epochs=30, validation_split=0.1, verbose=2)"
   ]
  },
  {
   "cell_type": "markdown",
   "id": "aa920603",
   "metadata": {},
   "source": [
    "#### 1.5. Choice of Loss function and Optimiser\n",
    "\n",
    "Loss Function: I have used Mean Squared Error loss function for implementing BiLSTM becuase this loss function ensures that the model does not have any huge outlier prediction which could result in wrong entity recognition.\n",
    "\n",
    "Optimiser : Used Adam because it combines the best characteristics of AdaGrad and RMSprop optimisers. And these both optimisers are very good for large dataset. Plus point with Adam is also that it uses less memory and is also very efficient with multi-label classification. "
   ]
  },
  {
   "cell_type": "markdown",
   "id": "38615438",
   "metadata": {},
   "source": [
    "#### 1.6. Hyperparameter Optimisation:\n",
    "\n",
    "Learning Rate : A value of 0.001 is used for learning rate with Adam optimiser. With small learning rate or alpha the model will give less but betterlearning with each epochs as compared to large learning rate and less epcohs. Alas since our dataset is not that huge, large learning rate will not able to learn more efficiently.\n",
    "\n",
    "Epochs: I have tested with large epochs and found that the accuracy and loss became constant after completing about 15 epcohs, so kept it for 20.\n",
    "\n",
    "Batch Size : Batch size is kept small becuase the training data is not too large as-well and the learning rate is also kept small."
   ]
  },
  {
   "cell_type": "markdown",
   "id": "099f6e2a",
   "metadata": {},
   "source": [
    "#### 1.7. Model Implementation with 90%/10% | train/test ratio and 70%/30% | train/validation ratio"
   ]
  },
  {
   "cell_type": "code",
   "execution_count": 123,
   "id": "ec4afb89",
   "metadata": {},
   "outputs": [
    {
     "name": "stdout",
     "output_type": "stream",
     "text": [
      "Number of sentences in the training dataset: 1775\n",
      "Number of sentences in the test dataset : 198\n"
     ]
    }
   ],
   "source": [
    "###Spliting dataset in proportion of 90%/10% for train/test\n",
    "X_train1, X_test1, y_train1, y_test1 = train_test_split(X,Y, test_size=0.1, random_state=1234)\n",
    "\n",
    "print(\"Number of sentences in the training dataset: {}\".format(len(X_train1)))\n",
    "print(\"Number of sentences in the test dataset : {}\".format(len(X_test1)))"
   ]
  },
  {
   "cell_type": "code",
   "execution_count": 124,
   "id": "0d820eea-c3e3-40ac-846a-53776b93d48c",
   "metadata": {},
   "outputs": [
    {
     "name": "stdout",
     "output_type": "stream",
     "text": [
      "Model: \"model_6\"\n",
      "_________________________________________________________________\n",
      " Layer (type)                Output Shape              Param #   \n",
      "=================================================================\n",
      " input_7 (InputLayer)        [(None, 8)]               0         \n",
      "                                                                 \n",
      " embedding_6 (Embedding)     (None, 8, 50)             115800    \n",
      "                                                                 \n",
      " bidirectional_4 (Bidirectio  (None, 8, 100)           40400     \n",
      " nal)                                                            \n",
      "                                                                 \n",
      " time_distributed_4 (TimeDis  (None, 8, 14)            1414      \n",
      " tributed)                                                       \n",
      "                                                                 \n",
      "=================================================================\n",
      "Total params: 157,614\n",
      "Trainable params: 157,614\n",
      "Non-trainable params: 0\n",
      "_________________________________________________________________\n"
     ]
    }
   ],
   "source": [
    "ip_layer1 = layers.Input(shape=(long_sent,))\n",
    "\n",
    "model1 = layers.Embedding(wc, dense, embeddings_initializer=\"uniform\", input_length=long_sent)(ip_layer1)\n",
    "\n",
    "model1 = layers.Bidirectional(layers.LSTM(units, recurrent_dropout=do_lstm, return_sequences=True))(model1)\n",
    "\n",
    "model1 = layers.TimeDistributed(layers.Dense(units_d, activation=\"relu\"))(model1)\n",
    "\n",
    "final_model1 = Model(ip_layer1, model1)\n",
    "\n",
    "opt1 = optimizers.Adam(learning_rate=0.001)\n",
    "\n",
    "final_model1.compile(optimizer=opt1, loss='mean_squared_error', metrics=['accuracy'])\n",
    "\n",
    "final_model1.summary()"
   ]
  },
  {
   "cell_type": "code",
   "execution_count": 125,
   "id": "444fe9a4",
   "metadata": {},
   "outputs": [
    {
     "name": "stdout",
     "output_type": "stream",
     "text": [
      "Epoch 1/30\n",
      "25/25 - 4s - loss: 0.0275 - accuracy: 0.3791 - val_loss: 0.0250 - val_accuracy: 0.2045 - 4s/epoch - 178ms/step\n",
      "Epoch 2/30\n",
      "25/25 - 0s - loss: 0.0246 - accuracy: 0.4215 - val_loss: 0.0224 - val_accuracy: 0.4170 - 438ms/epoch - 18ms/step\n",
      "Epoch 3/30\n",
      "25/25 - 0s - loss: 0.0209 - accuracy: 0.5089 - val_loss: 0.0185 - val_accuracy: 0.5678 - 416ms/epoch - 17ms/step\n",
      "Epoch 4/30\n",
      "25/25 - 0s - loss: 0.0169 - accuracy: 0.6256 - val_loss: 0.0152 - val_accuracy: 0.6386 - 416ms/epoch - 17ms/step\n",
      "Epoch 5/30\n",
      "25/25 - 0s - loss: 0.0137 - accuracy: 0.6369 - val_loss: 0.0132 - val_accuracy: 0.5668 - 400ms/epoch - 16ms/step\n",
      "Epoch 6/30\n",
      "25/25 - 0s - loss: 0.0112 - accuracy: 0.7141 - val_loss: 0.0115 - val_accuracy: 0.7568 - 391ms/epoch - 16ms/step\n",
      "Epoch 7/30\n",
      "25/25 - 0s - loss: 0.0085 - accuracy: 0.7934 - val_loss: 0.0102 - val_accuracy: 0.8016 - 393ms/epoch - 16ms/step\n",
      "Epoch 8/30\n",
      "25/25 - 0s - loss: 0.0060 - accuracy: 0.8833 - val_loss: 0.0092 - val_accuracy: 0.8804 - 391ms/epoch - 16ms/step\n",
      "Epoch 9/30\n",
      "25/25 - 0s - loss: 0.0040 - accuracy: 0.9325 - val_loss: 0.0089 - val_accuracy: 0.8919 - 392ms/epoch - 16ms/step\n",
      "Epoch 10/30\n",
      "25/25 - 0s - loss: 0.0028 - accuracy: 0.9590 - val_loss: 0.0088 - val_accuracy: 0.9038 - 384ms/epoch - 15ms/step\n",
      "Epoch 11/30\n",
      "25/25 - 0s - loss: 0.0021 - accuracy: 0.9720 - val_loss: 0.0087 - val_accuracy: 0.9031 - 384ms/epoch - 15ms/step\n",
      "Epoch 12/30\n",
      "25/25 - 0s - loss: 0.0017 - accuracy: 0.9792 - val_loss: 0.0088 - val_accuracy: 0.9020 - 396ms/epoch - 16ms/step\n",
      "Epoch 13/30\n",
      "25/25 - 0s - loss: 0.0016 - accuracy: 0.9790 - val_loss: 0.0088 - val_accuracy: 0.9003 - 394ms/epoch - 16ms/step\n",
      "Epoch 14/30\n",
      "25/25 - 0s - loss: 0.0015 - accuracy: 0.9803 - val_loss: 0.0088 - val_accuracy: 0.9015 - 421ms/epoch - 17ms/step\n",
      "Epoch 15/30\n",
      "25/25 - 0s - loss: 0.0015 - accuracy: 0.9800 - val_loss: 0.0088 - val_accuracy: 0.8989 - 389ms/epoch - 16ms/step\n",
      "Epoch 16/30\n",
      "25/25 - 0s - loss: 0.0014 - accuracy: 0.9809 - val_loss: 0.0087 - val_accuracy: 0.9013 - 390ms/epoch - 16ms/step\n",
      "Epoch 17/30\n",
      "25/25 - 0s - loss: 0.0014 - accuracy: 0.9805 - val_loss: 0.0088 - val_accuracy: 0.9008 - 387ms/epoch - 15ms/step\n",
      "Epoch 18/30\n",
      "25/25 - 0s - loss: 0.0014 - accuracy: 0.9805 - val_loss: 0.0088 - val_accuracy: 0.9010 - 385ms/epoch - 15ms/step\n",
      "Epoch 19/30\n",
      "25/25 - 0s - loss: 0.0014 - accuracy: 0.9808 - val_loss: 0.0088 - val_accuracy: 0.9003 - 380ms/epoch - 15ms/step\n",
      "Epoch 20/30\n",
      "25/25 - 0s - loss: 0.0014 - accuracy: 0.9809 - val_loss: 0.0087 - val_accuracy: 0.9001 - 377ms/epoch - 15ms/step\n",
      "Epoch 21/30\n",
      "25/25 - 0s - loss: 0.0014 - accuracy: 0.9812 - val_loss: 0.0088 - val_accuracy: 0.8996 - 394ms/epoch - 16ms/step\n",
      "Epoch 22/30\n",
      "25/25 - 0s - loss: 0.0014 - accuracy: 0.9811 - val_loss: 0.0088 - val_accuracy: 0.8999 - 385ms/epoch - 15ms/step\n",
      "Epoch 23/30\n",
      "25/25 - 0s - loss: 0.0014 - accuracy: 0.9805 - val_loss: 0.0088 - val_accuracy: 0.9001 - 377ms/epoch - 15ms/step\n",
      "Epoch 24/30\n",
      "25/25 - 0s - loss: 0.0014 - accuracy: 0.9811 - val_loss: 0.0087 - val_accuracy: 0.8999 - 380ms/epoch - 15ms/step\n",
      "Epoch 25/30\n",
      "25/25 - 0s - loss: 0.0014 - accuracy: 0.9807 - val_loss: 0.0088 - val_accuracy: 0.8994 - 387ms/epoch - 15ms/step\n",
      "Epoch 26/30\n",
      "25/25 - 0s - loss: 0.0013 - accuracy: 0.9808 - val_loss: 0.0087 - val_accuracy: 0.9001 - 378ms/epoch - 15ms/step\n",
      "Epoch 27/30\n",
      "25/25 - 0s - loss: 0.0013 - accuracy: 0.9808 - val_loss: 0.0087 - val_accuracy: 0.9003 - 400ms/epoch - 16ms/step\n",
      "Epoch 28/30\n",
      "25/25 - 0s - loss: 0.0013 - accuracy: 0.9806 - val_loss: 0.0088 - val_accuracy: 0.8996 - 391ms/epoch - 16ms/step\n",
      "Epoch 29/30\n",
      "25/25 - 0s - loss: 0.0013 - accuracy: 0.9809 - val_loss: 0.0088 - val_accuracy: 0.8989 - 387ms/epoch - 15ms/step\n",
      "Epoch 30/30\n",
      "25/25 - 0s - loss: 0.0013 - accuracy: 0.9803 - val_loss: 0.0087 - val_accuracy: 0.9006 - 389ms/epoch - 16ms/step\n"
     ]
    }
   ],
   "source": [
    "history1 = final_model1.fit(X_train1, y_train1, batch_size=50, epochs=30, validation_split=0.3, verbose=2)"
   ]
  },
  {
   "cell_type": "markdown",
   "id": "3fa69234",
   "metadata": {},
   "source": [
    "For 90%/10% train/test split, accuracy has been reached to max 0.98 with 30 epochs, while for 70%/30% train/test split, accuracy is around 0.99, so im dropping further analysis with 90%/10% split and testing the model with 70%/10% split only."
   ]
  },
  {
   "cell_type": "markdown",
   "id": "5105f7c5",
   "metadata": {},
   "source": [
    "#### 1.8. Testing the Model"
   ]
  },
  {
   "cell_type": "code",
   "execution_count": 126,
   "id": "6217bbd3",
   "metadata": {},
   "outputs": [
    {
     "name": "stdout",
     "output_type": "stream",
     "text": [
      "Accuracy: 0.902/\n"
     ]
    }
   ],
   "source": [
    "## predicting accuracy on the test dataset\n",
    "y_pred = final_model.predict(X_test)\n",
    "y_pred = np.argmax(y_pred, axis=2)\n",
    "\n",
    "y_test = np.argmax(y_test, axis=2)\n",
    "\n",
    "accuracy = (y_pred == y_test).mean()\n",
    "\n",
    "print(\"Accuracy: {:.3f}/\".format(accuracy))"
   ]
  },
  {
   "cell_type": "code",
   "execution_count": 127,
   "id": "105cc009",
   "metadata": {},
   "outputs": [
    {
     "data": {
      "image/png": "[encoded data removed]",
      "text/plain": [
       "<Figure size 432x288 with 1 Axes>"
      ]
     },
     "metadata": {
      "needs_background": "light"
     },
     "output_type": "display_data"
    },
    {
     "data": {
      "image/png": "[encoded data removed]",
      "text/plain": [
       "<Figure size 432x288 with 1 Axes>"
      ]
     },
     "metadata": {
      "needs_background": "light"
     },
     "output_type": "display_data"
    }
   ],
   "source": [
    "##defining a function to plot accuracy and loss function for training and validating data to have a better comparison\n",
    "def Training_and_validation_plot(history):\n",
    "    acc = history.history['accuracy']\n",
    "    val_acc = history.history['val_accuracy']\n",
    "    loss = history.history['loss']\n",
    "    val_loss = history.history['val_loss']\n",
    "    epochs = range(1, len(acc) + 1)\n",
    "\n",
    "    plt.plot(epochs, acc, 'b', label = 'Training Accuracy')\n",
    "    plt.plot(epochs, val_acc, 'g', label = 'Validation Accuracy')\n",
    "    plt.title('Training and Validation Accuracy')\n",
    "    plt.xlabel('Epochs')\n",
    "    plt.ylabel('Accuracy')\n",
    "    plt.legend()\n",
    "\n",
    "    plt.figure()\n",
    "    plt.plot(epochs, loss, 'b', label = 'Training Loss')\n",
    "    plt.plot(epochs, val_loss, 'g', label = 'Validation Loss')\n",
    "    plt.title('Training and Validation Loss')\n",
    "    plt.xlabel('Epochs')\n",
    "    plt.ylabel('Loss')\n",
    "    plt.legend()\n",
    "    plt.show()\n",
    "Training_and_validation_plot(history)"
   ]
  },
  {
   "cell_type": "code",
   "execution_count": 128,
   "id": "30797d50",
   "metadata": {},
   "outputs": [
    {
     "data": {
      "text/plain": [
       "Text(4, 1.1100719690322876, '0.9100')"
      ]
     },
     "execution_count": 128,
     "metadata": {},
     "output_type": "execute_result"
    },
    {
     "data": {
      "image/png": "[encoded data removed]",
      "text/plain": [
       "<Figure size 432x288 with 1 Axes>"
      ]
     },
     "metadata": {
      "needs_background": "light"
     },
     "output_type": "display_data"
    }
   ],
   "source": [
    "#########highest validation accuracy point\n",
    "val_acc = history.history['val_accuracy']\n",
    "acc = history.history['accuracy']\n",
    "epochs = range(1, len(acc) + 1)\n",
    "plt.plot(epochs, val_acc, 'g', label = 'Validation Accuracy')\n",
    "plt.title('Validation Accuracy')\n",
    "plt.xlabel('Epochs')\n",
    "plt.ylabel('Accuracy')\n",
    "plt.legend()\n",
    "y_arrow = max(val_acc)\n",
    "x_arrow = val_acc.index(y_arrow) + 1\n",
    "plt.annotate(str(y_arrow)[:6],\n",
    "             (x_arrow, y_arrow),\n",
    "             xytext=(x_arrow - 6, y_arrow + 0.2),\n",
    "             arrowprops=dict(facecolor='green',shrink=0.05))"
   ]
  },
  {
   "cell_type": "markdown",
   "id": "aa2b9efb",
   "metadata": {},
   "source": [
    "#### 1.9. Evaluating the model performance (confusion and performance matrix)"
   ]
  },
  {
   "cell_type": "markdown",
   "id": "121eaa9a",
   "metadata": {},
   "source": [
    "Since Dataset is highly imbalanced with entities \"restaurant_type\" and \"party_size_number\" holding more than 50% of dataset, a better inspection of result wold be using confusion matrix for each entity rather than a combined matrix and checking performance matrix corresponding to the same."
   ]
  },
  {
   "cell_type": "code",
   "execution_count": 129,
   "id": "b3c90550",
   "metadata": {},
   "outputs": [
    {
     "name": "stdout",
     "output_type": "stream",
     "text": [
      "Tag name: restaurant_type\n",
      "[[1365  129]\n",
      " [   9 3233]]\n",
      "Entity accuracy: 0.97 \n",
      "\n",
      "Tag name: country\n",
      "[[4628   12]\n",
      " [  34   62]]\n",
      "Entity accuracy: 0.99 \n",
      "\n",
      "Tag name: timeRange\n",
      "[[4447   80]\n",
      " [ 108  101]]\n",
      "Entity accuracy: 0.96 \n",
      "\n",
      "Tag name: sort\n",
      "[[4684    0]\n",
      " [   0   52]]\n",
      "Entity accuracy: 1.00 \n",
      "\n",
      "Tag name: spatial_relation\n",
      "[[4653    0]\n",
      " [   1   82]]\n",
      "Entity accuracy: 1.00 \n",
      "\n",
      "Tag name: poi\n",
      "[[4678   18]\n",
      " [  15   25]]\n",
      "Entity accuracy: 0.99 \n",
      "\n",
      "Tag name: cuisine\n",
      "[[4653   22]\n",
      " [  19   42]]\n",
      "Entity accuracy: 0.99 \n",
      "\n",
      "Tag name: facility\n",
      "[[4692    1]\n",
      " [   0   43]]\n",
      "Entity accuracy: 1.00 \n",
      "\n",
      "Tag name: restaurant_name\n",
      "[[4583   44]\n",
      " [  42   67]]\n",
      "Entity accuracy: 0.98 \n",
      "\n",
      "Tag name: served_dish\n",
      "[[4639   11]\n",
      " [  59   27]]\n",
      "Entity accuracy: 0.99 \n",
      "\n",
      "Tag name: city\n",
      "[[4475  102]\n",
      " [ 103   56]]\n",
      "Entity accuracy: 0.96 \n",
      "\n",
      "Tag name: party_size_description\n",
      "[[4626   24]\n",
      " [  64   22]]\n",
      "Entity accuracy: 0.98 \n",
      "\n",
      "Tag name: party_size_number\n",
      "[[4418    2]\n",
      " [   0  316]]\n",
      "Entity accuracy: 1.00 \n",
      "\n",
      "Tag name: state\n",
      "[[4561   21]\n",
      " [  12  142]]\n",
      "Entity accuracy: 0.99 \n",
      "\n"
     ]
    }
   ],
   "source": [
    "### defining function for confusion matrix plotting confusion matirx for each entity individually.\n",
    "def conf_matrix(cm, entityid):\n",
    "    entityname = index2entity[entityid]\n",
    "    print(\"Tag name: {}\".format(entityname))\n",
    "    print(cm[entityid])\n",
    "    tn, fp, fn, tp = cm[entityid].ravel()\n",
    "    entity_accuracy = (tp + tn) / (tn + fp + fn + tp)\n",
    "    print(\"Entity accuracy: {:.2f} \\n\".format(entity_accuracy))\n",
    "\n",
    "matrix = multilabel_confusion_matrix(y_test.flatten(), y_pred.flatten())\n",
    "\n",
    "conf_matrix(matrix, 0)\n",
    "conf_matrix(matrix, 1)\n",
    "conf_matrix(matrix, 2)\n",
    "conf_matrix(matrix, 3)\n",
    "conf_matrix(matrix, 4)\n",
    "conf_matrix(matrix, 5)\n",
    "conf_matrix(matrix, 6)\n",
    "conf_matrix(matrix, 7)\n",
    "conf_matrix(matrix, 8)\n",
    "conf_matrix(matrix, 9)\n",
    "conf_matrix(matrix, 10)\n",
    "conf_matrix(matrix, 11)\n",
    "conf_matrix(matrix, 12)\n",
    "conf_matrix(matrix, 13)"
   ]
  },
  {
   "cell_type": "code",
   "execution_count": 130,
   "id": "2ef9d85e-e9de-44eb-9da6-d5a6e0e57811",
   "metadata": {},
   "outputs": [
    {
     "name": "stdout",
     "output_type": "stream",
     "text": [
      "Tag name: restaurant_type\n",
      "Tag name: country\n",
      "Tag name: timeRange\n",
      "Tag name: sort\n",
      "Tag name: spatial_relation\n",
      "Tag name: poi\n",
      "Tag name: cuisine\n",
      "Tag name: facility\n",
      "Tag name: restaurant_name\n",
      "Tag name: served_dish\n",
      "Tag name: city\n",
      "Tag name: party_size_description\n",
      "Tag name: party_size_number\n",
      "\n",
      "\n",
      "Precision, Recall, F1\n",
      "              precision    recall  f1-score   support\n",
      "\n",
      "           0       0.96      1.00      0.98      3242\n",
      "           1       0.84      0.65      0.73        96\n",
      "           2       0.56      0.48      0.52       209\n",
      "           3       1.00      1.00      1.00        52\n",
      "           4       1.00      0.99      0.99        83\n",
      "           5       0.58      0.62      0.60        40\n",
      "           6       0.66      0.69      0.67        61\n",
      "           7       0.98      1.00      0.99        43\n",
      "           8       0.60      0.61      0.61       109\n",
      "           9       0.71      0.31      0.44        86\n",
      "          10       0.35      0.35      0.35       159\n",
      "          11       0.48      0.26      0.33        86\n",
      "          12       0.99      1.00      1.00       316\n",
      "          13       0.87      0.92      0.90       154\n",
      "\n",
      "    accuracy                           0.90      4736\n",
      "   macro avg       0.76      0.71      0.72      4736\n",
      "weighted avg       0.89      0.90      0.89      4736\n",
      "\n"
     ]
    }
   ],
   "source": [
    "for entityid in range(0,13):\n",
    "    entityname = index2entity[entityid]\n",
    "    print(\"Tag name: {}\".format(entityname))\n",
    "print('\\n')\n",
    "print(\"Precision, Recall, F1\")\n",
    "cr = classification_report(y_test.flatten(), y_pred.flatten())\n",
    "print(cr)"
   ]
  },
  {
   "cell_type": "markdown",
   "id": "98f19a30",
   "metadata": {},
   "source": [
    "As per above confusion matrix for individual entity, accuracy for each entity is good on test data."
   ]
  },
  {
   "cell_type": "raw",
   "id": "2ea3a4f1-151a-4993-8fd5-d10af0942c7f",
   "metadata": {},
   "source": [
    "## performance matrix\n",
    "print('\\n')\n",
    "print(\"Precision, Recall, F1\")\n",
    "print('\\n')\n",
    "CR=classification_report(y_test.flatten(), y_pred.flatten())\n",
    "print(CR)\n",
    "print('\\n')"
   ]
  },
  {
   "cell_type": "markdown",
   "id": "62358db3-3ec3-4636-a057-c0ded321c0c3",
   "metadata": {},
   "source": [
    "Since, as described above dataset is highly imbalanced with \"restaurant_size\" and \"party_size_number\" contributing to 50% of dataset. And Accuracy is calculated as correct prediction from the total prediction, so it will always be good for class with high value of data points. Hence Accuracy is not considered a good parameter for understanding effectiveness of model. While F1 score combines both recall and precision via harmonic mean and is considered a good performance matrix for imbalanced dataset.\n",
    "\n",
    "Here we can see for 9,10 and 11 f-1 score is even less than 50%,, which corresponds to served_dish, city and party_size_description and these entties do have very less ouccurance in dataset, so there is high possibility that prediction for these entties could be false as per training the model."
   ]
  },
  {
   "cell_type": "markdown",
   "id": "347ae2e2",
   "metadata": {},
   "source": [
    "### 2. LSTM (Long Short Term Memory network) Model:"
   ]
  },
  {
   "cell_type": "markdown",
   "id": "fcc4aef7",
   "metadata": {
    "tags": []
   },
   "source": [
    "#### 2.1. Pre-processing-Tokenizing data using Tokenizer from Keras:\n",
    "\n",
    "HereI am using Tokenizer class from keras preprocessing to convert our text labels into a sequence of integers to feed to our model.\n",
    "\n",
    "I have passed num_words argument into Tokenizer class which represents the count of words based on the  frequency of words in dataset, hence I have provided value =2316, since unique values of words in our dataset is 2316 as evaluated above."
   ]
  },
  {
   "cell_type": "code",
   "execution_count": 131,
   "id": "e05841f3",
   "metadata": {},
   "outputs": [],
   "source": [
    "tok_lstm = Tokenizer(num_words=2316)\n",
    "tok_lstm.fit_on_texts(data['value'])\n",
    "X = tok_lstm.texts_to_sequences(data['value'])"
   ]
  },
  {
   "cell_type": "code",
   "execution_count": 132,
   "id": "15dec6a0",
   "metadata": {},
   "outputs": [
    {
     "data": {
      "text/plain": [
       "array([[  0,   0,   0, ...,   3, 256, 114],\n",
       "       [  0,   0,   0, ...,   0,   0,   1],\n",
       "       [  0,   0,   0, ...,   0,   0,   5],\n",
       "       ...,\n",
       "       [  0,   0,   0, ...,   0,  10,   1],\n",
       "       [  0,   0,   0, ...,   0, 172, 730],\n",
       "       [  0,   0,   0, ...,   0,   0,   0]], dtype=int32)"
      ]
     },
     "execution_count": 132,
     "metadata": {},
     "output_type": "execute_result"
    }
   ],
   "source": [
    "### applying padding to x for balancing shape and size\n",
    "X = pad_sequences(X)\n",
    "X"
   ]
  },
  {
   "cell_type": "code",
   "execution_count": 133,
   "id": "b658bcc4",
   "metadata": {},
   "outputs": [
    {
     "data": {
      "text/plain": [
       "array([ 7,  8, 12, ...,  8, 13,  9])"
      ]
     },
     "execution_count": 133,
     "metadata": {},
     "output_type": "execute_result"
    }
   ],
   "source": [
    "#encoding the entity class\n",
    "le = LabelEncoder()\n",
    "Y = le.fit_transform(data['entity'])\n",
    "Y"
   ]
  },
  {
   "cell_type": "markdown",
   "id": "cf16390b",
   "metadata": {},
   "source": [
    "NOTE : For LSTM, I'm not implementing One hot encoding on our labels, to experiement based on integer values."
   ]
  },
  {
   "cell_type": "markdown",
   "id": "076d9fad",
   "metadata": {},
   "source": [
    "#### 2.2. Model Implementation with 70%/30% | train/test ratio and 90%/10% | train/validation ratio"
   ]
  },
  {
   "cell_type": "code",
   "execution_count": 134,
   "id": "80aaa36b",
   "metadata": {},
   "outputs": [],
   "source": [
    "########splitting test and train data\n",
    "from sklearn.model_selection import train_test_split\n",
    "X_train, X_test, y_train, y_test = train_test_split(X, Y, test_size=0.30, random_state=2)"
   ]
  },
  {
   "cell_type": "code",
   "execution_count": 135,
   "id": "93292fc3",
   "metadata": {},
   "outputs": [
    {
     "name": "stdout",
     "output_type": "stream",
     "text": [
      "numbe of unique words: 2373\n",
      "output length:  14\n"
     ]
    }
   ],
   "source": [
    "#define vocabulary\n",
    "vocabulary = len(tok_lstm.word_index)\n",
    "print(\"numbe of unique words:\", vocabulary)\n",
    "output_length = le.classes_.shape[0]\n",
    "print(\"output length: \", output_length)"
   ]
  },
  {
   "cell_type": "code",
   "execution_count": 136,
   "id": "a3e26140",
   "metadata": {},
   "outputs": [],
   "source": [
    "### creating the model\n",
    "input_shape = X_train.shape[1]\n",
    "i = Input(shape=(input_shape))\n",
    "x= Embedding(vocabulary+1,10)(i)\n",
    "x = LSTM(10, return_sequences = True)(x)\n",
    "x = Flatten()(x)\n",
    "x = Dense(output_length, activation = \"softmax\")(x)\n",
    "model3 = Model(i,x)"
   ]
  },
  {
   "cell_type": "code",
   "execution_count": 137,
   "id": "74ef2bd2",
   "metadata": {},
   "outputs": [],
   "source": [
    "#compiling the model\n",
    "model3.compile(loss=\"sparse_categorical_crossentropy\",optimizer='adam',metrics=['accuracy'])"
   ]
  },
  {
   "cell_type": "code",
   "execution_count": 138,
   "id": "4b234ebd",
   "metadata": {},
   "outputs": [
    {
     "name": "stdout",
     "output_type": "stream",
     "text": [
      "Epoch 1/30\n",
      "127/127 [==============================] - 4s 14ms/step - loss: 2.4762 - accuracy: 0.1749 - val_loss: 2.3776 - val_accuracy: 0.2156\n",
      "Epoch 2/30\n",
      "127/127 [==============================] - 1s 9ms/step - loss: 2.3164 - accuracy: 0.2420 - val_loss: 2.2223 - val_accuracy: 0.2333\n",
      "Epoch 3/30\n",
      "127/127 [==============================] - 1s 7ms/step - loss: 2.0280 - accuracy: 0.3971 - val_loss: 1.8088 - val_accuracy: 0.4689\n",
      "Epoch 4/30\n",
      "127/127 [==============================] - 1s 7ms/step - loss: 1.5841 - accuracy: 0.5171 - val_loss: 1.3952 - val_accuracy: 0.5933\n",
      "Epoch 5/30\n",
      "127/127 [==============================] - 1s 7ms/step - loss: 1.2281 - accuracy: 0.6381 - val_loss: 1.1229 - val_accuracy: 0.7111\n",
      "Epoch 6/30\n",
      "127/127 [==============================] - 1s 7ms/step - loss: 0.9815 - accuracy: 0.7514 - val_loss: 0.9130 - val_accuracy: 0.7911\n",
      "Epoch 7/30\n",
      "127/127 [==============================] - 1s 7ms/step - loss: 0.7888 - accuracy: 0.8308 - val_loss: 0.7632 - val_accuracy: 0.7978\n",
      "Epoch 8/30\n",
      "127/127 [==============================] - 1s 7ms/step - loss: 0.6375 - accuracy: 0.8577 - val_loss: 0.6660 - val_accuracy: 0.8356\n",
      "Epoch 9/30\n",
      "127/127 [==============================] - 1s 7ms/step - loss: 0.5247 - accuracy: 0.8971 - val_loss: 0.5931 - val_accuracy: 0.8467\n",
      "Epoch 10/30\n",
      "127/127 [==============================] - 1s 7ms/step - loss: 0.4354 - accuracy: 0.9159 - val_loss: 0.5287 - val_accuracy: 0.8644\n",
      "Epoch 11/30\n",
      "127/127 [==============================] - 1s 7ms/step - loss: 0.3655 - accuracy: 0.9330 - val_loss: 0.4901 - val_accuracy: 0.8689\n",
      "Epoch 12/30\n",
      "127/127 [==============================] - 1s 7ms/step - loss: 0.3092 - accuracy: 0.9471 - val_loss: 0.4491 - val_accuracy: 0.8778\n",
      "Epoch 13/30\n",
      "127/127 [==============================] - 1s 6ms/step - loss: 0.2615 - accuracy: 0.9619 - val_loss: 0.4125 - val_accuracy: 0.8933\n",
      "Epoch 14/30\n",
      "127/127 [==============================] - 1s 7ms/step - loss: 0.2218 - accuracy: 0.9696 - val_loss: 0.3921 - val_accuracy: 0.9000\n",
      "Epoch 15/30\n",
      "127/127 [==============================] - 1s 7ms/step - loss: 0.1895 - accuracy: 0.9785 - val_loss: 0.3740 - val_accuracy: 0.9022\n",
      "Epoch 16/30\n",
      "127/127 [==============================] - 1s 7ms/step - loss: 0.1644 - accuracy: 0.9809 - val_loss: 0.3671 - val_accuracy: 0.9022\n",
      "Epoch 17/30\n",
      "127/127 [==============================] - 1s 7ms/step - loss: 0.1429 - accuracy: 0.9834 - val_loss: 0.3558 - val_accuracy: 0.9067\n",
      "Epoch 18/30\n",
      "127/127 [==============================] - 1s 7ms/step - loss: 0.1269 - accuracy: 0.9861 - val_loss: 0.3357 - val_accuracy: 0.9067\n",
      "Epoch 19/30\n",
      "127/127 [==============================] - 1s 7ms/step - loss: 0.1136 - accuracy: 0.9876 - val_loss: 0.3473 - val_accuracy: 0.9022\n",
      "Epoch 20/30\n",
      "127/127 [==============================] - 1s 7ms/step - loss: 0.1025 - accuracy: 0.9901 - val_loss: 0.3394 - val_accuracy: 0.9044\n",
      "Epoch 21/30\n",
      "127/127 [==============================] - 1s 7ms/step - loss: 0.0928 - accuracy: 0.9904 - val_loss: 0.3153 - val_accuracy: 0.9156\n",
      "Epoch 22/30\n",
      "127/127 [==============================] - 1s 7ms/step - loss: 0.0854 - accuracy: 0.9904 - val_loss: 0.3177 - val_accuracy: 0.9067\n",
      "Epoch 23/30\n",
      "127/127 [==============================] - 1s 7ms/step - loss: 0.0792 - accuracy: 0.9904 - val_loss: 0.3191 - val_accuracy: 0.9067\n",
      "Epoch 24/30\n",
      "127/127 [==============================] - 1s 7ms/step - loss: 0.0738 - accuracy: 0.9901 - val_loss: 0.3116 - val_accuracy: 0.9111\n",
      "Epoch 25/30\n",
      "127/127 [==============================] - 1s 7ms/step - loss: 0.0691 - accuracy: 0.9913 - val_loss: 0.3124 - val_accuracy: 0.9111\n",
      "Epoch 26/30\n",
      "127/127 [==============================] - 1s 7ms/step - loss: 0.0650 - accuracy: 0.9911 - val_loss: 0.3198 - val_accuracy: 0.9089\n",
      "Epoch 27/30\n",
      "127/127 [==============================] - 1s 7ms/step - loss: 0.0615 - accuracy: 0.9913 - val_loss: 0.3131 - val_accuracy: 0.9067\n",
      "Epoch 28/30\n",
      "127/127 [==============================] - 1s 7ms/step - loss: 0.0586 - accuracy: 0.9921 - val_loss: 0.3066 - val_accuracy: 0.9156\n",
      "Epoch 29/30\n",
      "127/127 [==============================] - 1s 7ms/step - loss: 0.0547 - accuracy: 0.9921 - val_loss: 0.3088 - val_accuracy: 0.9200\n",
      "Epoch 30/30\n",
      "127/127 [==============================] - 1s 7ms/step - loss: 0.0525 - accuracy: 0.9916 - val_loss: 0.2972 - val_accuracy: 0.9222\n"
     ]
    }
   ],
   "source": [
    "history = model3.fit(X_train,y_train,epochs=30,validation_split=0.1)"
   ]
  },
  {
   "cell_type": "markdown",
   "id": "86c5c061",
   "metadata": {
    "tags": []
   },
   "source": [
    "#### 2.3. Choice of Loss function, Optimiser and Hyperparameters\n",
    "\n",
    "For Loss function we have used \"sparse_categorical_crossentropy\" loss function which is considered best for multi-label classification problem. Since we haven't performed one-hot encoding on our entity label, \"sparse_categorical_crossentropy\" can perform the same calculation for cross entropy error without requiring one hot encoding for target class and will help to save significant memory.\n",
    "\n",
    "For Optimiser we have used the same \"Adam\" as for BiLSTM model since it is best fit for multi-label classification.\n",
    "\n",
    "Softmax function is used in the activation layer to predict multinomial probability distribution for multilabel classification. Softmax is considered better than Sigmoid function for multilabel classification where is sigmoid is better for binary classification, and hence Softmax function."
   ]
  },
  {
   "cell_type": "markdown",
   "id": "73d665b1",
   "metadata": {
    "tags": []
   },
   "source": [
    "#### 2.3. Model Implementation with 90%/10% | train/test ratio and 70%/30% | train/validation ratio"
   ]
  },
  {
   "cell_type": "code",
   "execution_count": 139,
   "id": "ffae9f84",
   "metadata": {},
   "outputs": [],
   "source": [
    "########splitting test and train data\n",
    "X_train1, X_test1, y_train1, y_test1 = train_test_split(X, Y, test_size=0.10, random_state=2)"
   ]
  },
  {
   "cell_type": "code",
   "execution_count": 140,
   "id": "8c2431e1",
   "metadata": {},
   "outputs": [],
   "source": [
    "### creating the model\n",
    "input_shape1 = X_train1.shape[1]\n",
    "i1 = Input(shape=(input_shape1))\n",
    "x1= Embedding(vocabulary+1,10)(i1)\n",
    "x1 = LSTM(10, return_sequences = True)(x1)\n",
    "x1 = Flatten()(x1)\n",
    "x1 = Dense(output_length, activation = \"softmax\")(x1)\n",
    "model4 = Model(i1,x1)"
   ]
  },
  {
   "cell_type": "code",
   "execution_count": 141,
   "id": "f1ce16c0",
   "metadata": {},
   "outputs": [],
   "source": [
    "#compiling the model\n",
    "model4.compile(loss=\"sparse_categorical_crossentropy\",optimizer='adam',metrics=['accuracy'])"
   ]
  },
  {
   "cell_type": "code",
   "execution_count": 142,
   "id": "5a0829d4",
   "metadata": {},
   "outputs": [
    {
     "name": "stdout",
     "output_type": "stream",
     "text": [
      "Epoch 1/30\n",
      "127/127 [==============================] - 4s 12ms/step - loss: 2.4563 - accuracy: 0.2060 - val_loss: 2.3535 - val_accuracy: 0.2152\n",
      "Epoch 2/30\n",
      "127/127 [==============================] - 1s 7ms/step - loss: 2.2670 - accuracy: 0.2303 - val_loss: 2.1537 - val_accuracy: 0.2643\n",
      "Epoch 3/30\n",
      "127/127 [==============================] - 1s 8ms/step - loss: 1.9768 - accuracy: 0.3176 - val_loss: 1.8250 - val_accuracy: 0.3347\n",
      "Epoch 4/30\n",
      "127/127 [==============================] - 1s 7ms/step - loss: 1.6680 - accuracy: 0.3898 - val_loss: 1.5922 - val_accuracy: 0.4103\n",
      "Epoch 5/30\n",
      "127/127 [==============================] - 1s 7ms/step - loss: 1.4733 - accuracy: 0.4601 - val_loss: 1.4288 - val_accuracy: 0.4870\n",
      "Epoch 6/30\n",
      "127/127 [==============================] - 1s 7ms/step - loss: 1.3043 - accuracy: 0.6070 - val_loss: 1.2928 - val_accuracy: 0.5372\n",
      "Epoch 7/30\n",
      "127/127 [==============================] - 1s 7ms/step - loss: 1.1430 - accuracy: 0.7086 - val_loss: 1.1331 - val_accuracy: 0.6844\n",
      "Epoch 8/30\n",
      "127/127 [==============================] - 1s 7ms/step - loss: 0.9821 - accuracy: 0.7556 - val_loss: 1.0059 - val_accuracy: 0.7121\n",
      "Epoch 9/30\n",
      "127/127 [==============================] - 1s 7ms/step - loss: 0.8416 - accuracy: 0.7907 - val_loss: 0.8968 - val_accuracy: 0.7582\n",
      "Epoch 10/30\n",
      "127/127 [==============================] - 1s 7ms/step - loss: 0.7218 - accuracy: 0.8051 - val_loss: 0.8099 - val_accuracy: 0.7917\n",
      "Epoch 11/30\n",
      "127/127 [==============================] - 1s 8ms/step - loss: 0.6215 - accuracy: 0.8506 - val_loss: 0.7403 - val_accuracy: 0.7917\n",
      "Epoch 12/30\n",
      "127/127 [==============================] - 1s 8ms/step - loss: 0.5397 - accuracy: 0.8654 - val_loss: 0.6683 - val_accuracy: 0.8252\n",
      "Epoch 13/30\n",
      "127/127 [==============================] - 1s 8ms/step - loss: 0.4636 - accuracy: 0.9092 - val_loss: 0.6327 - val_accuracy: 0.8575\n",
      "Epoch 14/30\n",
      "127/127 [==============================] - 1s 7ms/step - loss: 0.3985 - accuracy: 0.9327 - val_loss: 0.5930 - val_accuracy: 0.8488\n",
      "Epoch 15/30\n",
      "127/127 [==============================] - 1s 7ms/step - loss: 0.3449 - accuracy: 0.9520 - val_loss: 0.5616 - val_accuracy: 0.8627\n",
      "Epoch 16/30\n",
      "127/127 [==============================] - 1s 7ms/step - loss: 0.2946 - accuracy: 0.9683 - val_loss: 0.5351 - val_accuracy: 0.8846\n",
      "Epoch 17/30\n",
      "127/127 [==============================] - 1s 7ms/step - loss: 0.2524 - accuracy: 0.9755 - val_loss: 0.5065 - val_accuracy: 0.8886\n",
      "Epoch 18/30\n",
      "127/127 [==============================] - 1s 7ms/step - loss: 0.2188 - accuracy: 0.9790 - val_loss: 0.4865 - val_accuracy: 0.8909\n",
      "Epoch 19/30\n",
      "127/127 [==============================] - 1s 7ms/step - loss: 0.1903 - accuracy: 0.9837 - val_loss: 0.4730 - val_accuracy: 0.8898\n",
      "Epoch 20/30\n",
      "127/127 [==============================] - 1s 7ms/step - loss: 0.1674 - accuracy: 0.9849 - val_loss: 0.4567 - val_accuracy: 0.8927\n",
      "Epoch 21/30\n",
      "127/127 [==============================] - 1s 7ms/step - loss: 0.1487 - accuracy: 0.9869 - val_loss: 0.4455 - val_accuracy: 0.8927\n",
      "Epoch 22/30\n",
      "127/127 [==============================] - 1s 7ms/step - loss: 0.1337 - accuracy: 0.9871 - val_loss: 0.4455 - val_accuracy: 0.8898\n",
      "Epoch 23/30\n",
      "127/127 [==============================] - 1s 7ms/step - loss: 0.1221 - accuracy: 0.9876 - val_loss: 0.4423 - val_accuracy: 0.8886\n",
      "Epoch 24/30\n",
      "127/127 [==============================] - 1s 7ms/step - loss: 0.1119 - accuracy: 0.9876 - val_loss: 0.4319 - val_accuracy: 0.8927\n",
      "Epoch 25/30\n",
      "127/127 [==============================] - 1s 7ms/step - loss: 0.1037 - accuracy: 0.9876 - val_loss: 0.4277 - val_accuracy: 0.8915\n",
      "Epoch 26/30\n",
      "127/127 [==============================] - 1s 7ms/step - loss: 0.0960 - accuracy: 0.9879 - val_loss: 0.4212 - val_accuracy: 0.8967\n",
      "Epoch 27/30\n",
      "127/127 [==============================] - 1s 7ms/step - loss: 0.0903 - accuracy: 0.9879 - val_loss: 0.4276 - val_accuracy: 0.8944\n",
      "Epoch 28/30\n",
      "127/127 [==============================] - 1s 7ms/step - loss: 0.0852 - accuracy: 0.9881 - val_loss: 0.4203 - val_accuracy: 0.8967\n",
      "Epoch 29/30\n",
      "127/127 [==============================] - 1s 7ms/step - loss: 0.0802 - accuracy: 0.9884 - val_loss: 0.4157 - val_accuracy: 0.8984\n",
      "Epoch 30/30\n",
      "127/127 [==============================] - 1s 7ms/step - loss: 0.0757 - accuracy: 0.9881 - val_loss: 0.4207 - val_accuracy: 0.8973\n"
     ]
    }
   ],
   "source": [
    "history1 = model4.fit(X_train1,y_train1,epochs=30,validation_split=0.3)"
   ]
  },
  {
   "cell_type": "markdown",
   "id": "d2bee9a6",
   "metadata": {},
   "source": [
    "For LSTM also, splitting dataset as 70%/30% performs better compared to 90%/10% , so further evaluation of model will be done on 70%/30% trained model."
   ]
  },
  {
   "cell_type": "markdown",
   "id": "d795c659",
   "metadata": {},
   "source": [
    "#### 2.4. Testing the model"
   ]
  },
  {
   "cell_type": "code",
   "execution_count": 143,
   "id": "84542e46",
   "metadata": {},
   "outputs": [
    {
     "data": {
      "image/png": "[encoded data removed]",
      "text/plain": [
       "<Figure size 432x288 with 1 Axes>"
      ]
     },
     "metadata": {
      "needs_background": "light"
     },
     "output_type": "display_data"
    },
    {
     "data": {
      "image/png": "[encoded data removed]",
      "text/plain": [
       "<Figure size 432x288 with 1 Axes>"
      ]
     },
     "metadata": {
      "needs_background": "light"
     },
     "output_type": "display_data"
    }
   ],
   "source": [
    "Training_and_validation_plot(history)"
   ]
  },
  {
   "cell_type": "code",
   "execution_count": 144,
   "id": "4afa4e7d",
   "metadata": {},
   "outputs": [
    {
     "data": {
      "text/plain": [
       "Text(42, 1.1222221970558166, '0.9222')"
      ]
     },
     "execution_count": 144,
     "metadata": {},
     "output_type": "execute_result"
    },
    {
     "data": {
      "image/png": "[encoded data removed]",
      "text/plain": [
       "<Figure size 432x288 with 1 Axes>"
      ]
     },
     "metadata": {
      "needs_background": "light"
     },
     "output_type": "display_data"
    }
   ],
   "source": [
    "#########highest validation accuracy point\n",
    "val_acc = history.history['val_accuracy']\n",
    "acc = history.history['accuracy']\n",
    "epochs = range(1, len(acc) + 1)\n",
    "plt.plot(epochs, val_acc, 'g', label = 'Validation Accuracy')\n",
    "plt.title('Validation Accuracy')\n",
    "plt.xlabel('Epochs')\n",
    "plt.ylabel('Accuracy')\n",
    "plt.legend()\n",
    "y_arrow = max(val_acc)\n",
    "x_arrow = val_acc.index(y_arrow) + 1\n",
    "plt.annotate(str(y_arrow)[:6],\n",
    "             (x_arrow, y_arrow),\n",
    "             xytext=(x_arrow + 12, y_arrow + 0.2),\n",
    "             arrowprops=dict(facecolor='green',shrink=0.05))"
   ]
  },
  {
   "cell_type": "code",
   "execution_count": 145,
   "id": "45b1dfdb",
   "metadata": {},
   "outputs": [
    {
     "name": "stdout",
     "output_type": "stream",
     "text": [
      "61/61 [==============================] - 0s 3ms/step - loss: 0.4380 - accuracy: 0.8775\n",
      "Test set\n",
      "   Accuracy: 0.877\n"
     ]
    }
   ],
   "source": [
    "###accuracy on test dataset\n",
    "y_pred1 = model3.predict(X_test)\n",
    "y_pred1=(y_pred1 > 0.5)\n",
    "accr = model3.evaluate(X_test,y_test)\n",
    "lstm_acc=accr[1]\n",
    "print('Test set\\n   Accuracy: {:0.3f}'.format(accr[1]))"
   ]
  },
  {
   "cell_type": "code",
   "execution_count": 146,
   "id": "c798d192",
   "metadata": {},
   "outputs": [
    {
     "name": "stdout",
     "output_type": "stream",
     "text": [
      "Tag name: restaurant_type\n",
      "[[1607  159]\n",
      " [   6  154]]\n",
      "Entity accuracy: 0.91 \n",
      "\n",
      "Tag name: country\n",
      "[[1820    0]\n",
      " [  42   64]]\n",
      "Entity accuracy: 0.98 \n",
      "\n",
      "Tag name: timeRange\n",
      "[[1855    1]\n",
      " [  31   39]]\n",
      "Entity accuracy: 0.98 \n",
      "\n",
      "Tag name: sort\n",
      "[[1876    0]\n",
      " [   0   50]]\n",
      "Entity accuracy: 1.00 \n",
      "\n",
      "Tag name: spatial_relation\n",
      "[[1819    1]\n",
      " [   7   99]]\n",
      "Entity accuracy: 1.00 \n",
      "\n",
      "Tag name: poi\n",
      "[[1601    4]\n",
      " [   0  321]]\n",
      "Entity accuracy: 1.00 \n",
      "\n",
      "Tag name: cuisine\n",
      "[[1877   10]\n",
      " [  16   23]]\n",
      "Entity accuracy: 0.99 \n",
      "\n",
      "Tag name: facility\n",
      "[[1810   10]\n",
      " [  30   76]]\n",
      "Entity accuracy: 0.98 \n",
      "\n",
      "Tag name: restaurant_name\n",
      "[[1521    6]\n",
      " [   0  399]]\n",
      "Entity accuracy: 1.00 \n",
      "\n",
      "Tag name: served_dish\n",
      "[[1833   11]\n",
      " [  47   35]]\n",
      "Entity accuracy: 0.97 \n",
      "\n",
      "Tag name: city\n",
      "[[1869    0]\n",
      " [   1   56]]\n",
      "Entity accuracy: 1.00 \n",
      "\n",
      "Tag name: party_size_description\n",
      "[[1842    0]\n",
      " [   1   83]]\n",
      "Entity accuracy: 1.00 \n",
      "\n",
      "Tag name: party_size_number\n",
      "[[1758    7]\n",
      " [  10  151]]\n",
      "Entity accuracy: 0.99 \n",
      "\n",
      "Tag name: state\n",
      "[[1740    1]\n",
      " [  19  166]]\n",
      "Entity accuracy: 0.99 \n",
      "\n"
     ]
    }
   ],
   "source": [
    "## plotting confusion matrix for each enetity as per function created above:\n",
    "rounded_labels=np.argmax(y_pred1, axis=1)\n",
    "rounded_labels[1]\n",
    "matrix = multilabel_confusion_matrix(y_test.flatten(), rounded_labels)\n",
    "\n",
    "conf_matrix(matrix, 0)\n",
    "conf_matrix(matrix, 1)\n",
    "conf_matrix(matrix, 2)\n",
    "conf_matrix(matrix, 3)\n",
    "conf_matrix(matrix, 4)\n",
    "conf_matrix(matrix, 5)\n",
    "conf_matrix(matrix, 6)\n",
    "conf_matrix(matrix, 7)\n",
    "conf_matrix(matrix, 8)\n",
    "conf_matrix(matrix, 9)\n",
    "conf_matrix(matrix, 10)\n",
    "conf_matrix(matrix, 11)\n",
    "conf_matrix(matrix, 12)\n",
    "conf_matrix(matrix, 13)"
   ]
  },
  {
   "cell_type": "code",
   "execution_count": 147,
   "id": "d7a4abd0",
   "metadata": {},
   "outputs": [
    {
     "name": "stdout",
     "output_type": "stream",
     "text": [
      "Tag name: restaurant_type\n",
      "Tag name: country\n",
      "Tag name: timeRange\n",
      "Tag name: sort\n",
      "Tag name: spatial_relation\n",
      "Tag name: poi\n",
      "Tag name: cuisine\n",
      "Tag name: facility\n",
      "Tag name: restaurant_name\n",
      "Tag name: served_dish\n",
      "Tag name: city\n",
      "Tag name: party_size_description\n",
      "Tag name: party_size_number\n",
      "\n",
      "\n",
      "Precision, Recall, F1\n",
      "\n",
      "\n",
      "              precision    recall  f1-score   support\n",
      "\n",
      "           0       0.49      0.96      0.65       160\n",
      "           1       1.00      0.60      0.75       106\n",
      "           2       0.97      0.56      0.71        70\n",
      "           3       1.00      1.00      1.00        50\n",
      "           4       0.99      0.93      0.96       106\n",
      "           5       0.99      1.00      0.99       321\n",
      "           6       0.70      0.59      0.64        39\n",
      "           7       0.88      0.72      0.79       106\n",
      "           8       0.99      1.00      0.99       399\n",
      "           9       0.76      0.43      0.55        82\n",
      "          10       1.00      0.98      0.99        57\n",
      "          11       1.00      0.99      0.99        84\n",
      "          12       0.96      0.94      0.95       161\n",
      "          13       0.99      0.90      0.94       185\n",
      "\n",
      "    accuracy                           0.89      1926\n",
      "   macro avg       0.91      0.83      0.85      1926\n",
      "weighted avg       0.92      0.89      0.89      1926\n",
      "\n",
      "\n",
      "\n"
     ]
    }
   ],
   "source": [
    "### Performance Matrix\n",
    "for entityid in range(0,13):\n",
    "    entityname = index2entity[entityid]\n",
    "    print(\"Tag name: {}\".format(entityname))\n",
    "print('\\n')\n",
    "print(\"Precision, Recall, F1\")\n",
    "print('\\n')\n",
    "CR=classification_report(y_test, rounded_labels)\n",
    "print(CR)\n",
    "print('\\n')"
   ]
  },
  {
   "cell_type": "markdown",
   "id": "61f9fa07-be15-49e8-af6b-32cab77abc9c",
   "metadata": {},
   "source": [
    "Here for LSTM, F-1 Score is better even for the entities for which it was very less in BiLSTM. But effectiveness of the evaluation of LSTM is less since the model was trained only with LSTM while for BiLSTM, I have implemnted Time Distribution layer, Dropout layer which will help in increasing the effectiveness of the model and will be evaluated below."
   ]
  },
  {
   "cell_type": "markdown",
   "id": "f49151fa",
   "metadata": {},
   "source": [
    "### Comparing results from both LSTM and BiLSTM Model Implementation"
   ]
  },
  {
   "cell_type": "code",
   "execution_count": 148,
   "id": "c673f818",
   "metadata": {},
   "outputs": [
    {
     "name": "stdout",
     "output_type": "stream",
     "text": [
      "Comparing results from  LSTM and BiLSTM Model\n",
      "+--------------+----------+\n",
      "|    Model     | Accuracy |\n",
      "+--------------+----------+\n",
      "|  LSTM model  |  0.877   |\n",
      "| BiLSTM model |   0.9    |\n",
      "+--------------+----------+\n"
     ]
    }
   ],
   "source": [
    "### test accuracy comparison of both models \n",
    "results = PrettyTable()\n",
    "print(\"Comparing results from  LSTM and BiLSTM Model\")\n",
    "results.field_names = [\"Model\", \"Accuracy\"]\n",
    "\n",
    "results.add_row([\"LSTM model\", round(lstm_acc,3)])\n",
    "results.add_row([\"BiLSTM model\",  round(accuracy,2)])\n",
    "\n",
    "print(results)"
   ]
  },
  {
   "cell_type": "code",
   "execution_count": 149,
   "id": "bb6b642d",
   "metadata": {},
   "outputs": [
    {
     "data": {
      "text/plain": [
       "<matplotlib.legend.Legend at 0x7f762f25e7c0>"
      ]
     },
     "execution_count": 149,
     "metadata": {},
     "output_type": "execute_result"
    },
    {
     "data": {
      "image/png": "[encoded data removed]",
      "text/plain": [
       "<Figure size 576x432 with 1 Axes>"
      ]
     },
     "metadata": {
      "needs_background": "light"
     },
     "output_type": "display_data"
    }
   ],
   "source": [
    "### plotting accuracy comparison bar graph\n",
    "final_acc = [['LSTM and BiLSTM reesults', lstm_acc, accuracy]]\n",
    "final_acc = pd.DataFrame (final_acc, columns = ['Comparison of LSTM and BiLSTM models','LSTM Model', 'BiLSTM model'])\n",
    "final_acc.set_index(\"Comparison of LSTM and BiLSTM models\",drop=True,inplace=True)\n",
    "final_acc.plot(kind='bar',figsize=(8, 6)).legend(bbox_to_anchor=(1, 1))"
   ]
  },
  {
   "cell_type": "markdown",
   "id": "ce2c2cac",
   "metadata": {},
   "source": [
    "### Discussion on better performing model, reasons and any further adjustment required\n",
    "\n",
    "As indicated in starting that BiLSTM has perform better compared to LSTM because of few  reasons as mention below:\n",
    "\n",
    "1. BiLSTM trains from both past and future while LSTM trains from only future. So, prediction for BiLSTM will be better since it does have information from past as-well.\n",
    "\n",
    "2. Time distributed layer : For BiLSTM, I have added time distributed layer which processes onje input at a time and hence simplies the network/ model and helped in better learning for model.\n",
    "\n",
    "3. Dropout Layer: I have implemented Dropout layer in BiLSTM model unlike LSTM which helped model to tackle over-ffiting of data more efficiently.\n",
    "\n",
    "\"sparse_categorical_crossentropy\" loss function is considered best for multi-label classification problems which I have sued in LSTM model, but I think if I would have used the same for BiLSTM aswell instead of \"mean_squared_error\" loss function, the accuracy/ F-1 score would have been better."
   ]
  },
  {
   "cell_type": "markdown",
   "id": "c4c1ec70",
   "metadata": {},
   "source": [
    "### Name Entity Recognization example using BiLSTM"
   ]
  },
  {
   "cell_type": "code",
   "execution_count": 150,
   "id": "881925a8",
   "metadata": {},
   "outputs": [],
   "source": [
    "## Sentence example\n",
    "sent = \"book midday at halal place for five at a bakery or restaurant in Sugarville\""
   ]
  },
  {
   "cell_type": "code",
   "execution_count": 151,
   "id": "a1d12208",
   "metadata": {},
   "outputs": [
    {
     "name": "stdout",
     "output_type": "stream",
     "text": [
      "book           : restaurant_type\n",
      "midday         : timeRange\n",
      "halal          : cuisine\n",
      "place          : restaurant_type\n",
      "bakery         : restaurant_type\n",
      "restaurant     : restaurant_type\n",
      "Sugarville     : city \n",
      "\n"
     ]
    }
   ],
   "source": [
    "tok = re.compile(f\"([{string.punctuation}“”¨«»®´·º½¾¿¡§£₤‘’])\") ### removing punctuation\n",
    "sent = tok.sub(r\"  \", sent).split() ## tokenization\n",
    "sent = [x for x in sent if x not in stop_words] ### removing stop-words\n",
    "value2index[\"--PADDING--\"]=1 \n",
    "p_sent = sent + [value2index[\"--PADDING--\"]] * (long_sent - len(sent)) ## padding sentence\n",
    "p_sent = [value2index.get(w, 0) for w in p_sent]\n",
    "pred = final_model.predict(np.array([p_sent])) ## feeding into model\n",
    "pred = np.argmax(pred, axis=-1)\n",
    "\n",
    "ret = \"\"\n",
    "for a, b in zip(sent, pred[0]):\n",
    "    ret = ret + \"{:15}: {:5}\".format(a, index2entity[b]) + \"\\n\"\n",
    "print(ret)"
   ]
  },
  {
   "cell_type": "markdown",
   "id": "c6c4cf5a",
   "metadata": {},
   "source": [
    "Here, model was able to predict timerange, cuisine,restaurant_type and city perfectly. But due to small and imbalanced dataset model had predicted book incorrectly as restaurant_type."
   ]
  },
  {
   "cell_type": "markdown",
   "id": "cdec9514",
   "metadata": {},
   "source": [
    "### Can the chatbot components you experimented with fulfil their purpose? \n",
    "\n",
    "It is important for Name Entity Recognization is to understand the context of the text and to extract entities as per the context. BiLSTM model is very efficient when it comes to understanding the information since this model learn from past and future information and hence was very effective to dintiguish entities as per the context of the sentence, as discribed above with example. \n",
    "\n",
    "Also the accuracy for the BiLSTM model was better on test data as compared to LSTM, so overall, as per above experiements I was able to extract different entities from both LSTM and BiLSTM models, but more effectively with BiLSTM."
   ]
  },
  {
   "cell_type": "markdown",
   "id": "08db303b",
   "metadata": {},
   "source": [
    "###  What is good enough accuracy?\n",
    "\n",
    "Accuracy from both the models is very good. It is because of the size of the data provided to model is very limited. Also there are multiple entities in small dataset which is also very imbalanced, hence inspite of having good accuracy the F-1 score for both models is very low. And for imbalanced dataset F-1 score is more important parameter to consider the performance as compared to accuracy."
   ]
  },
  {
   "cell_type": "markdown",
   "id": "d31b1d34",
   "metadata": {},
   "source": [
    "### If any of the models did not perform well, what is needed to improve?\n",
    "\n",
    "Both the models have good performance, since the size of the data was very limited, so the prediction was expected to be limited as well. But LSTM can be considered as having bad performance as compared to BiLSTM.\n",
    "\n",
    "I could have experimented around adding different layers inside models or tuning haperparameters to have a better performance as below :\n",
    "\n",
    "1. Dropout layer : I could have implemnted Dropout layer with LSTM model input layer the way I have added in BiLSTM model. It would have helped to reduce overfitting during training becuase it helps in bypassing neurons randomly which would have reduced the sensitivity. \n",
    "2. Activation function : Instead of using softmax activation function, I could have experimented with rectifier activation function which is considered most efficient and popular activation function."
   ]
  },
  {
   "cell_type": "markdown",
   "id": "717bbfb0",
   "metadata": {},
   "source": [
    "### If any of the models performed really well, could you make it more efficient and sacrifice some quality?\n",
    "\n",
    "The prediction for BiLSTM was good because of its both side learning. Secondly Time Distributed wrapper layer helped to further simplifies the model by processing one step at a time.\n",
    "\n",
    "I was planning to add linear CRF model layer to BiLSTM model as it tries to create relationship between tags (entities) in NER classification problems because it assumes that the tag for any word also depends on the tag of previous word, which would helped me to have a better prediction and would have made my Name entity Recognization more efficient. It might have increase the duration of training and reduce accuracy but prediction would have been more efficient."
   ]
  },
  {
   "cell_type": "markdown",
   "id": "e845a96d",
   "metadata": {},
   "source": [
    "## Dialogue Flow Manager"
   ]
  },
  {
   "cell_type": "markdown",
   "id": "55ad06e8",
   "metadata": {},
   "source": [
    "Here, I am implementing Rule based chatbot where I have created different functions for different type of expected questions from user. We have stored sample questions and expected outputs in different variables. For queries related to restaurant I have used the same intents which were implemented by other team-mate for intent classification and I have worked on the conversation of those intents only. \n",
    "\n",
    "Also, Our dataset for intent classification doesn't had any response stored in it for queries. So I had wrote the responses manually as per intents and stored the same in a text file. Same is attached inside zip folder.\n",
    "\n",
    "For responses related to restaurant recommendation and food recommendation, I have used cosine similarity for which user will response from the list of sentences stored in response file such that responses with highest cosine similarity with vectorised word from Input queries will be responded by the chatbot. \n",
    "\n",
    "I have named this chatbot \"Chatterchef\" for better user experience."
   ]
  },
  {
   "cell_type": "markdown",
   "id": "91cb5405",
   "metadata": {},
   "source": [
    "#### 1. Working with Greetings and general conversation\n",
    "\n",
    "First I am going to work on the greetings for the user and how chatbot is going to understand the greetings. Here we are taking synonyms of Hello word, so that chatbot can understand any word under that list and provide corresponding response."
   ]
  },
  {
   "cell_type": "code",
   "execution_count": 152,
   "id": "827b0d25",
   "metadata": {},
   "outputs": [],
   "source": [
    "# taking synonyms of hello from wordnet synonyms set and appending in a list\n",
    "syn = []\n",
    "for s in wordnet.synsets('hello'):\n",
    "    for l in s.lemmas():\n",
    "        lname = re.sub(r'\\[[0-9]*\\]', ' ', l.name())\n",
    "        lname = re.sub(r'\\s+', ' ', l.name())\n",
    "        syn.append(lname)"
   ]
  },
  {
   "cell_type": "code",
   "execution_count": 153,
   "id": "4b2732cf",
   "metadata": {},
   "outputs": [],
   "source": [
    "# taking greeting inputs and corresponding possible responses from chatbot\n",
    "greetings = ['hi','hey', 'hello', 'whats up', 'good evening', 'good morning', 'hey there']\n",
    "# concatenating the synonyms and the inputs for greeting\n",
    "greetings = greetings + syn\n",
    "# greeting responses by the bot\n",
    "greetings_resp = ['Hi! How can I help you?',\n",
    "                      'Hello there! So please what do you want to know?',\n",
    "                      'Hi, How can I assist you today?']"
   ]
  },
  {
   "cell_type": "code",
   "execution_count": 154,
   "id": "0255ed83",
   "metadata": {},
   "outputs": [],
   "source": [
    "### taking some more basic converation\n",
    "convos = ['how are you', 'how are you doing today', 'you good ?']\n",
    "# possible responses by chatbot\n",
    "convos_resp = ['Great! what about you?', 'Just having a busy day :( wbu??', 'Just enjoying my work :)']\n",
    "# possible replies by user\n",
    "convos_user = ['great', 'i am fine', 'fine', 'good', 'super', 'superb', 'super great', 'nice']"
   ]
  },
  {
   "cell_type": "code",
   "execution_count": 155,
   "id": "81ed95db",
   "metadata": {},
   "outputs": [],
   "source": [
    "# other basic qus and ans related to chatbot (chatterchef)\n",
    "ques_ans = {'what are you': 'I am a restaurant bot. Here to help you for food and restaurant recommendation :3',\n",
    "                    'who are you': 'I am a restaurant bot. Here to help you for food and restaurant recommendation :3',\n",
    "                    'what can you do': 'Recommending restaurant and food!'}"
   ]
  },
  {
   "cell_type": "markdown",
   "id": "9251d8c2",
   "metadata": {},
   "source": [
    "#### 2. Preprocessing on responses\n",
    "Loading response file for different queries from user and preprocessing on it with removing special characters and building responses into different sentences and words. Lemmetizing and removing punctuation from words to apply cosine similarity on the same."
   ]
  },
  {
   "cell_type": "code",
   "execution_count": 156,
   "id": "99135600",
   "metadata": {},
   "outputs": [],
   "source": [
    "## Loading responses file\n",
    "with open ('/home/studio-lab-user/NLP-2022/Coursework/restaurant_response_dataset.txt', 'r') as f:\n",
    "    d_data = f.read()"
   ]
  },
  {
   "cell_type": "code",
   "execution_count": 157,
   "id": "76406423",
   "metadata": {},
   "outputs": [],
   "source": [
    "# Lower casing the data\n",
    "t_data = d_data.lower()"
   ]
  },
  {
   "cell_type": "code",
   "execution_count": 158,
   "id": "aae01443",
   "metadata": {},
   "outputs": [],
   "source": [
    "# removing secial characters from response data\n",
    "t_data = re.sub(r'\\[[0-9]*\\]', ' ', t_data)\n",
    "t_data = re.sub(r'\\s+', ' ', t_data)"
   ]
  },
  {
   "cell_type": "code",
   "execution_count": 159,
   "id": "719d1514",
   "metadata": {},
   "outputs": [],
   "source": [
    "# extracting sentences from the response data\n",
    "sentences = nltk.sent_tokenize(t_data)\n",
    "# extracting words from the response data\n",
    "words = nltk.word_tokenize(t_data)"
   ]
  },
  {
   "cell_type": "code",
   "execution_count": 160,
   "id": "e1605e8d",
   "metadata": {},
   "outputs": [],
   "source": [
    "# applying lemmatization on words\n",
    "lem = nltk.stem.WordNetLemmatizer()\n",
    "def per_lem(tokens):\n",
    "    return [lem.lemmatize(token) for token in tokens]"
   ]
  },
  {
   "cell_type": "code",
   "execution_count": 161,
   "id": "0873373e",
   "metadata": {},
   "outputs": [],
   "source": [
    "# punctuation\n",
    "rem_punc = dict((ord(p), None) for p in string.punctuation)"
   ]
  },
  {
   "cell_type": "code",
   "execution_count": 162,
   "id": "e7b6262d",
   "metadata": {},
   "outputs": [],
   "source": [
    "# method for pre-processing as per above functions\n",
    "def proc_data(doc):\n",
    "    return per_lem(nltk.word_tokenize(doc.lower().translate(rem_punc)))"
   ]
  },
  {
   "cell_type": "code",
   "execution_count": 163,
   "id": "1b0da78f",
   "metadata": {},
   "outputs": [],
   "source": [
    "# removing punctuation\n",
    "def punc_rem(str):\n",
    "    punc = r'''!()-[]{};:'\"\\,<>./?@#$%^&*_~'''\n",
    "    no_punc = ''\n",
    "\n",
    "    for c in str:\n",
    "        if c not in punc:\n",
    "            no_punc = no_punc + c\n",
    "\n",
    "    return no_punc"
   ]
  },
  {
   "cell_type": "markdown",
   "id": "65f6392a",
   "metadata": {},
   "source": [
    "#### 3. Creating different function for greetings, general respomnses and restaurant related responses"
   ]
  },
  {
   "cell_type": "markdown",
   "id": "3e647154",
   "metadata": {},
   "source": [
    "Here I have created different functions to fetch for different scenarios inputs expected from customer and how and from where to provide corresponing responses via chatbot"
   ]
  },
  {
   "cell_type": "code",
   "execution_count": 164,
   "id": "d2eaf651",
   "metadata": {},
   "outputs": [],
   "source": [
    "# function for greetings\n",
    "def greeting(hello):\n",
    "    if punc_rem(hello.lower()) in greetings:\n",
    "        return random.choice(greetings_resp)"
   ]
  },
  {
   "cell_type": "code",
   "execution_count": 165,
   "id": "0424628e",
   "metadata": {},
   "outputs": [],
   "source": [
    "# function for responsing\n",
    "def convo_resp(str):\n",
    "    if punc_rem(str.lower()) in convos:\n",
    "        return random.choice(convos_resp)"
   ]
  },
  {
   "cell_type": "code",
   "execution_count": 166,
   "id": "d2817db9",
   "metadata": {},
   "outputs": [],
   "source": [
    "# function for qus and ans\n",
    "def qus_ans(str):\n",
    "    if punc_rem(str.lower()) in ques_ans:\n",
    "        return ques_ans[punc_rem(str.lower())]"
   ]
  },
  {
   "cell_type": "code",
   "execution_count": 167,
   "id": "722933cd",
   "metadata": {},
   "outputs": [],
   "source": [
    "# function to fetch response from response file\n",
    "def recommendation(user):\n",
    "    bot_resp = ''\n",
    "    sentences.append(user)\n",
    "\n",
    "    w_vect = TfidfVectorizer(tokenizer=proc_data, stop_words='english')\n",
    "    word_vect = w_vect.fit_transform(sentences)\n",
    "    sim_vect = cosine_similarity(word_vect[-1], word_vect)\n",
    "    sim_sent = sim_vect.argsort()[0][-2]\n",
    "\n",
    "    mat_vect = sim_vect.flatten()\n",
    "    mat_vect.sort()\n",
    "    vect_mat = mat_vect[-2]\n",
    "\n",
    "    if vect_mat is 0:\n",
    "        bot_resp = bot_resp + 'Sorry, I can\\'t help you with this. You can check out our website for further details. '\n",
    "        return bot_resp\n",
    "    else:\n",
    "        bot_resp = bot_resp + sentences[sim_sent]\n",
    "        return bot_resp"
   ]
  },
  {
   "cell_type": "code",
   "execution_count": 168,
   "id": "a9859b66",
   "metadata": {},
   "outputs": [
    {
     "name": "stdout",
     "output_type": "stream",
     "text": [
      "Hi! I am the restaurant bot representative: Chatterchef. You can ask me for restaurant and food recommendation and I shall try my best to answer them: \n"
     ]
    },
    {
     "name": "stdin",
     "output_type": "stream",
     "text": [
      " hi\n"
     ]
    },
    {
     "name": "stdout",
     "output_type": "stream",
     "text": [
      "Chatterchef: Hi! How can I help you?\n"
     ]
    },
    {
     "name": "stdin",
     "output_type": "stream",
     "text": [
      " how are you\n"
     ]
    },
    {
     "name": "stdout",
     "output_type": "stream",
     "text": [
      "Chatterchef: Great! what about you?\n"
     ]
    },
    {
     "name": "stdin",
     "output_type": "stream",
     "text": [
      " good. want to book a table\n"
     ]
    },
    {
     "name": "stdout",
     "output_type": "stream",
     "text": [
      "Chatterchef: yes sure, please for how many people should i book the table ?\n"
     ]
    },
    {
     "name": "stdin",
     "output_type": "stream",
     "text": [
      " 3, 8:00PM?\n"
     ]
    },
    {
     "name": "stdout",
     "output_type": "stream",
     "text": [
      "Chatterchef: i will be happy to take reservation for you.\n"
     ]
    },
    {
     "name": "stdin",
     "output_type": "stream",
     "text": [
      " is reservation confirm ?\n"
     ]
    },
    {
     "name": "stdout",
     "output_type": "stream",
     "text": [
      "Chatterchef: your reservation is confirm, happy dining.\n"
     ]
    },
    {
     "name": "stdin",
     "output_type": "stream",
     "text": [
      " thanks\n"
     ]
    },
    {
     "name": "stdout",
     "output_type": "stream",
     "text": [
      "Chatterchef: happy to help ! (And WELCOME! :D)\n"
     ]
    }
   ],
   "source": [
    "# chatting with the chatbot -->\n",
    "chat = True\n",
    "print('Hi! I am the restaurant bot representative: Chatterchef. You can ask me for restaurant and food recommendation and I shall try my best to answer them: ')\n",
    "while chat:\n",
    "    u_ip = input().lower()\n",
    "    u_ip = punc_rem(u_ip)\n",
    "    if u_ip != 'bye':\n",
    "        if u_ip == 'thanks' or u_ip == 'thank you very much' or u_ip == 'thank you':\n",
    "            chat = False\n",
    "            print('Chatterchef: happy to help ! (And WELCOME! :D)')\n",
    "        elif u_ip in convos_user:\n",
    "            print('That\\'s nice! How can I help you?')\n",
    "            continue\n",
    "        else:\n",
    "            if greeting(u_ip) is not None:\n",
    "                print('Chatterchef: ' + greeting(u_ip))\n",
    "            elif convo_resp(u_ip) is not None:\n",
    "                print('Chatterchef: ' + convo_resp(u_ip))\n",
    "            elif qus_ans(u_ip) is not None:\n",
    "                print('Chatterchef: ' + qus_ans(u_ip))\n",
    "            else:\n",
    "                print('Chatterchef: ', end='')\n",
    "                print(recommendation(u_ip))\n",
    "                sentences.remove(u_ip)\n",
    "    else:\n",
    "        continue_chat = False\n",
    "        print('Chatterchef: Bye, take care, stay home and stay safe!')"
   ]
  },
  {
   "cell_type": "markdown",
   "id": "44615ab1",
   "metadata": {},
   "source": [
    "#### References:\n",
    "\n",
    "1. https://machinelearningmastery.com/how-to-choose-loss-functions-when-training-deep-learning-neural-networks/ https://machinelearningmastery.com/softmax-activation-function-with-python/#:~:text=The%20softmax%20function%20is%20used%20as%20the%20activation%20function%20in,more%20than%20two%20class%20labels.\n",
    "\n",
    "2. https://www.kaggle.com/datasets/swapnilpote/restaurant-chatbot-dataset-intent-entity\n",
    "\n",
    "3. https://stackoverflow.com/questions/43035827/whats-the-difference-between-a-bidirectional-lstm-and-an-lstm\n",
    "\n",
    "4. https://deepdatascience.wordpress.com/2016/11/18/which-lstm-optimizer-to-use/\n",
    "\n",
    "5. https://blog.dominodatalab.com/named-entity-recognition-ner-challenges-and-model\n",
    "\n",
    "6. https://github.com/JinnJarBurger/Rule-based-chatbot/\n",
    "\n",
    "7. https://stackoverflow.com/questions/4371231/removing-punctuation-from-python-list-items\n",
    "\n",
    "8. https://machinelearningmastery.com/timedistributed-layer-for-long-short-term-memory-networks-in-python/"
   ]
  }
 ],
 "metadata": {
  "kernelspec": {
   "display_name": "default:Python",
   "language": "python",
   "name": "conda-env-default-py"
  },
  "language_info": {
   "codemirror_mode": {
    "name": "ipython",
    "version": 3
   },
   "file_extension": ".py",
   "mimetype": "text/x-python",
   "name": "python",
   "nbconvert_exporter": "python",
   "pygments_lexer": "ipython3",
   "version": "3.9.12"
  }
 },
 "nbformat": 4,
 "nbformat_minor": 5
}
